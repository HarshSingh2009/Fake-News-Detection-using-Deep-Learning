{
  "nbformat": 4,
  "nbformat_minor": 0,
  "metadata": {
    "colab": {
      "provenance": [],
      "gpuType": "T4"
    },
    "kernelspec": {
      "name": "python3",
      "display_name": "Python 3"
    },
    "language_info": {
      "name": "python"
    },
    "accelerator": "GPU"
  },
  "cells": [
    {
      "cell_type": "markdown",
      "source": [
        "# Kaggle Fake News Detection using Bidirectional Long Short Term Memory"
      ],
      "metadata": {
        "id": "B7MMlF1wxMtr"
      }
    },
    {
      "cell_type": "code",
      "execution_count": null,
      "metadata": {
        "id": "NznOla_rwO8f"
      },
      "outputs": [],
      "source": [
        "import numpy as np\n",
        "import matplotlib.pyplot as plt\n",
        "import pandas as pd"
      ]
    },
    {
      "cell_type": "markdown",
      "source": [
        "## Load the Dataset"
      ],
      "metadata": {
        "id": "je4Q_q5ZSJrd"
      }
    },
    {
      "cell_type": "code",
      "source": [
        "!mkdir -p ~/.kaggle\n",
        "!cp kaggle.json ~/.kaggle/"
      ],
      "metadata": {
        "id": "6GcmjIJ7SLdb"
      },
      "execution_count": null,
      "outputs": []
    },
    {
      "cell_type": "code",
      "source": [
        "!kaggle datasets download -d samrat96/fake-news-detection"
      ],
      "metadata": {
        "colab": {
          "base_uri": "https://localhost:8080/"
        },
        "id": "EXCu8kpbSPEL",
        "outputId": "0916a4e9-103f-464b-a882-510781d0800c"
      },
      "execution_count": null,
      "outputs": [
        {
          "output_type": "stream",
          "name": "stdout",
          "text": [
            "Warning: Your Kaggle API key is readable by other users on this system! To fix this, you can run 'chmod 600 /root/.kaggle/kaggle.json'\n",
            "fake-news-detection.zip: Skipping, found more recently modified local copy (use --force to force download)\n"
          ]
        }
      ]
    },
    {
      "cell_type": "code",
      "source": [
        "import zipfile\n",
        "zip_ref = zipfile.ZipFile('/content/fake-news-detection.zip', 'r')\n",
        "zip_ref.extractall('/content/')\n",
        "zip_ref.close()"
      ],
      "metadata": {
        "id": "huk7m2icSTIF"
      },
      "execution_count": null,
      "outputs": []
    },
    {
      "cell_type": "code",
      "source": [
        "df = pd.read_csv('train.csv')"
      ],
      "metadata": {
        "id": "hSgWTup8x2VQ"
      },
      "execution_count": null,
      "outputs": []
    },
    {
      "cell_type": "code",
      "source": [
        "df.head()"
      ],
      "metadata": {
        "colab": {
          "base_uri": "https://localhost:8080/",
          "height": 302
        },
        "id": "CABJ3AXfxzGs",
        "outputId": "dad29e64-73dd-4b68-feda-1868a8f7f131"
      },
      "execution_count": null,
      "outputs": [
        {
          "output_type": "execute_result",
          "data": {
            "text/plain": [
              "   id                                              title              author  \\\n",
              "0   0  House Dem Aide: We Didn’t Even See Comey’s Let...       Darrell Lucus   \n",
              "1   1  FLYNN: Hillary Clinton, Big Woman on Campus - ...     Daniel J. Flynn   \n",
              "2   2                  Why the Truth Might Get You Fired  Consortiumnews.com   \n",
              "3   3  15 Civilians Killed In Single US Airstrike Hav...     Jessica Purkiss   \n",
              "4   4  Iranian woman jailed for fictional unpublished...      Howard Portnoy   \n",
              "\n",
              "                                                text  label  \n",
              "0  House Dem Aide: We Didn’t Even See Comey’s Let...      1  \n",
              "1  Ever get the feeling your life circles the rou...      0  \n",
              "2  Why the Truth Might Get You Fired October 29, ...      1  \n",
              "3  Videos 15 Civilians Killed In Single US Airstr...      1  \n",
              "4  Print \\nAn Iranian woman has been sentenced to...      1  "
            ],
            "text/html": [
              "\n",
              "  <div id=\"df-7b0d0ebd-b10c-4573-bd28-84e4087a6973\">\n",
              "    <div class=\"colab-df-container\">\n",
              "      <div>\n",
              "<style scoped>\n",
              "    .dataframe tbody tr th:only-of-type {\n",
              "        vertical-align: middle;\n",
              "    }\n",
              "\n",
              "    .dataframe tbody tr th {\n",
              "        vertical-align: top;\n",
              "    }\n",
              "\n",
              "    .dataframe thead th {\n",
              "        text-align: right;\n",
              "    }\n",
              "</style>\n",
              "<table border=\"1\" class=\"dataframe\">\n",
              "  <thead>\n",
              "    <tr style=\"text-align: right;\">\n",
              "      <th></th>\n",
              "      <th>id</th>\n",
              "      <th>title</th>\n",
              "      <th>author</th>\n",
              "      <th>text</th>\n",
              "      <th>label</th>\n",
              "    </tr>\n",
              "  </thead>\n",
              "  <tbody>\n",
              "    <tr>\n",
              "      <th>0</th>\n",
              "      <td>0</td>\n",
              "      <td>House Dem Aide: We Didn’t Even See Comey’s Let...</td>\n",
              "      <td>Darrell Lucus</td>\n",
              "      <td>House Dem Aide: We Didn’t Even See Comey’s Let...</td>\n",
              "      <td>1</td>\n",
              "    </tr>\n",
              "    <tr>\n",
              "      <th>1</th>\n",
              "      <td>1</td>\n",
              "      <td>FLYNN: Hillary Clinton, Big Woman on Campus - ...</td>\n",
              "      <td>Daniel J. Flynn</td>\n",
              "      <td>Ever get the feeling your life circles the rou...</td>\n",
              "      <td>0</td>\n",
              "    </tr>\n",
              "    <tr>\n",
              "      <th>2</th>\n",
              "      <td>2</td>\n",
              "      <td>Why the Truth Might Get You Fired</td>\n",
              "      <td>Consortiumnews.com</td>\n",
              "      <td>Why the Truth Might Get You Fired October 29, ...</td>\n",
              "      <td>1</td>\n",
              "    </tr>\n",
              "    <tr>\n",
              "      <th>3</th>\n",
              "      <td>3</td>\n",
              "      <td>15 Civilians Killed In Single US Airstrike Hav...</td>\n",
              "      <td>Jessica Purkiss</td>\n",
              "      <td>Videos 15 Civilians Killed In Single US Airstr...</td>\n",
              "      <td>1</td>\n",
              "    </tr>\n",
              "    <tr>\n",
              "      <th>4</th>\n",
              "      <td>4</td>\n",
              "      <td>Iranian woman jailed for fictional unpublished...</td>\n",
              "      <td>Howard Portnoy</td>\n",
              "      <td>Print \\nAn Iranian woman has been sentenced to...</td>\n",
              "      <td>1</td>\n",
              "    </tr>\n",
              "  </tbody>\n",
              "</table>\n",
              "</div>\n",
              "      <button class=\"colab-df-convert\" onclick=\"convertToInteractive('df-7b0d0ebd-b10c-4573-bd28-84e4087a6973')\"\n",
              "              title=\"Convert this dataframe to an interactive table.\"\n",
              "              style=\"display:none;\">\n",
              "        \n",
              "  <svg xmlns=\"http://www.w3.org/2000/svg\" height=\"24px\"viewBox=\"0 0 24 24\"\n",
              "       width=\"24px\">\n",
              "    <path d=\"M0 0h24v24H0V0z\" fill=\"none\"/>\n",
              "    <path d=\"M18.56 5.44l.94 2.06.94-2.06 2.06-.94-2.06-.94-.94-2.06-.94 2.06-2.06.94zm-11 1L8.5 8.5l.94-2.06 2.06-.94-2.06-.94L8.5 2.5l-.94 2.06-2.06.94zm10 10l.94 2.06.94-2.06 2.06-.94-2.06-.94-.94-2.06-.94 2.06-2.06.94z\"/><path d=\"M17.41 7.96l-1.37-1.37c-.4-.4-.92-.59-1.43-.59-.52 0-1.04.2-1.43.59L10.3 9.45l-7.72 7.72c-.78.78-.78 2.05 0 2.83L4 21.41c.39.39.9.59 1.41.59.51 0 1.02-.2 1.41-.59l7.78-7.78 2.81-2.81c.8-.78.8-2.07 0-2.86zM5.41 20L4 18.59l7.72-7.72 1.47 1.35L5.41 20z\"/>\n",
              "  </svg>\n",
              "      </button>\n",
              "      \n",
              "  <style>\n",
              "    .colab-df-container {\n",
              "      display:flex;\n",
              "      flex-wrap:wrap;\n",
              "      gap: 12px;\n",
              "    }\n",
              "\n",
              "    .colab-df-convert {\n",
              "      background-color: #E8F0FE;\n",
              "      border: none;\n",
              "      border-radius: 50%;\n",
              "      cursor: pointer;\n",
              "      display: none;\n",
              "      fill: #1967D2;\n",
              "      height: 32px;\n",
              "      padding: 0 0 0 0;\n",
              "      width: 32px;\n",
              "    }\n",
              "\n",
              "    .colab-df-convert:hover {\n",
              "      background-color: #E2EBFA;\n",
              "      box-shadow: 0px 1px 2px rgba(60, 64, 67, 0.3), 0px 1px 3px 1px rgba(60, 64, 67, 0.15);\n",
              "      fill: #174EA6;\n",
              "    }\n",
              "\n",
              "    [theme=dark] .colab-df-convert {\n",
              "      background-color: #3B4455;\n",
              "      fill: #D2E3FC;\n",
              "    }\n",
              "\n",
              "    [theme=dark] .colab-df-convert:hover {\n",
              "      background-color: #434B5C;\n",
              "      box-shadow: 0px 1px 3px 1px rgba(0, 0, 0, 0.15);\n",
              "      filter: drop-shadow(0px 1px 2px rgba(0, 0, 0, 0.3));\n",
              "      fill: #FFFFFF;\n",
              "    }\n",
              "  </style>\n",
              "\n",
              "      <script>\n",
              "        const buttonEl =\n",
              "          document.querySelector('#df-7b0d0ebd-b10c-4573-bd28-84e4087a6973 button.colab-df-convert');\n",
              "        buttonEl.style.display =\n",
              "          google.colab.kernel.accessAllowed ? 'block' : 'none';\n",
              "\n",
              "        async function convertToInteractive(key) {\n",
              "          const element = document.querySelector('#df-7b0d0ebd-b10c-4573-bd28-84e4087a6973');\n",
              "          const dataTable =\n",
              "            await google.colab.kernel.invokeFunction('convertToInteractive',\n",
              "                                                     [key], {});\n",
              "          if (!dataTable) return;\n",
              "\n",
              "          const docLinkHtml = 'Like what you see? Visit the ' +\n",
              "            '<a target=\"_blank\" href=https://colab.research.google.com/notebooks/data_table.ipynb>data table notebook</a>'\n",
              "            + ' to learn more about interactive tables.';\n",
              "          element.innerHTML = '';\n",
              "          dataTable['output_type'] = 'display_data';\n",
              "          await google.colab.output.renderOutput(dataTable, element);\n",
              "          const docLink = document.createElement('div');\n",
              "          docLink.innerHTML = docLinkHtml;\n",
              "          element.appendChild(docLink);\n",
              "        }\n",
              "      </script>\n",
              "    </div>\n",
              "  </div>\n",
              "  "
            ]
          },
          "metadata": {},
          "execution_count": 6
        }
      ]
    },
    {
      "cell_type": "markdown",
      "source": [
        "## Data Preprocessing"
      ],
      "metadata": {
        "id": "jUaWADDYzBDq"
      }
    },
    {
      "cell_type": "code",
      "source": [
        "# Checking for NaN values\n",
        "df.isna().sum() # There are NaN value"
      ],
      "metadata": {
        "colab": {
          "base_uri": "https://localhost:8080/"
        },
        "id": "dNEHYT6hzDfj",
        "outputId": "158bf01a-0ea6-4c28-ad40-602c8990c7eb"
      },
      "execution_count": null,
      "outputs": [
        {
          "output_type": "execute_result",
          "data": {
            "text/plain": [
              "id           0\n",
              "title      558\n",
              "author    1957\n",
              "text        39\n",
              "label        0\n",
              "dtype: int64"
            ]
          },
          "metadata": {},
          "execution_count": 7
        }
      ]
    },
    {
      "cell_type": "code",
      "source": [
        "# Checking for Duplicates\n",
        "df.duplicated().sum()"
      ],
      "metadata": {
        "colab": {
          "base_uri": "https://localhost:8080/"
        },
        "id": "CDUcG-UA1Www",
        "outputId": "064a5e60-52e9-46e8-a46a-bb5f69866e3f"
      },
      "execution_count": null,
      "outputs": [
        {
          "output_type": "execute_result",
          "data": {
            "text/plain": [
              "0"
            ]
          },
          "metadata": {},
          "execution_count": 8
        }
      ]
    },
    {
      "cell_type": "code",
      "source": [
        "# Dropping NaN values\n",
        "df = df.dropna()"
      ],
      "metadata": {
        "id": "FbN4C__I1hpK"
      },
      "execution_count": null,
      "outputs": []
    },
    {
      "cell_type": "code",
      "source": [
        "df.head()"
      ],
      "metadata": {
        "colab": {
          "base_uri": "https://localhost:8080/",
          "height": 302
        },
        "id": "K4NwUsuC1u7r",
        "outputId": "cedf7200-6a3c-4295-981b-a5733c560710"
      },
      "execution_count": null,
      "outputs": [
        {
          "output_type": "execute_result",
          "data": {
            "text/plain": [
              "   id                                              title              author  \\\n",
              "0   0  House Dem Aide: We Didn’t Even See Comey’s Let...       Darrell Lucus   \n",
              "1   1  FLYNN: Hillary Clinton, Big Woman on Campus - ...     Daniel J. Flynn   \n",
              "2   2                  Why the Truth Might Get You Fired  Consortiumnews.com   \n",
              "3   3  15 Civilians Killed In Single US Airstrike Hav...     Jessica Purkiss   \n",
              "4   4  Iranian woman jailed for fictional unpublished...      Howard Portnoy   \n",
              "\n",
              "                                                text  label  \n",
              "0  House Dem Aide: We Didn’t Even See Comey’s Let...      1  \n",
              "1  Ever get the feeling your life circles the rou...      0  \n",
              "2  Why the Truth Might Get You Fired October 29, ...      1  \n",
              "3  Videos 15 Civilians Killed In Single US Airstr...      1  \n",
              "4  Print \\nAn Iranian woman has been sentenced to...      1  "
            ],
            "text/html": [
              "\n",
              "  <div id=\"df-cbde0932-dba7-459a-8ec5-cbd9e59d01fb\">\n",
              "    <div class=\"colab-df-container\">\n",
              "      <div>\n",
              "<style scoped>\n",
              "    .dataframe tbody tr th:only-of-type {\n",
              "        vertical-align: middle;\n",
              "    }\n",
              "\n",
              "    .dataframe tbody tr th {\n",
              "        vertical-align: top;\n",
              "    }\n",
              "\n",
              "    .dataframe thead th {\n",
              "        text-align: right;\n",
              "    }\n",
              "</style>\n",
              "<table border=\"1\" class=\"dataframe\">\n",
              "  <thead>\n",
              "    <tr style=\"text-align: right;\">\n",
              "      <th></th>\n",
              "      <th>id</th>\n",
              "      <th>title</th>\n",
              "      <th>author</th>\n",
              "      <th>text</th>\n",
              "      <th>label</th>\n",
              "    </tr>\n",
              "  </thead>\n",
              "  <tbody>\n",
              "    <tr>\n",
              "      <th>0</th>\n",
              "      <td>0</td>\n",
              "      <td>House Dem Aide: We Didn’t Even See Comey’s Let...</td>\n",
              "      <td>Darrell Lucus</td>\n",
              "      <td>House Dem Aide: We Didn’t Even See Comey’s Let...</td>\n",
              "      <td>1</td>\n",
              "    </tr>\n",
              "    <tr>\n",
              "      <th>1</th>\n",
              "      <td>1</td>\n",
              "      <td>FLYNN: Hillary Clinton, Big Woman on Campus - ...</td>\n",
              "      <td>Daniel J. Flynn</td>\n",
              "      <td>Ever get the feeling your life circles the rou...</td>\n",
              "      <td>0</td>\n",
              "    </tr>\n",
              "    <tr>\n",
              "      <th>2</th>\n",
              "      <td>2</td>\n",
              "      <td>Why the Truth Might Get You Fired</td>\n",
              "      <td>Consortiumnews.com</td>\n",
              "      <td>Why the Truth Might Get You Fired October 29, ...</td>\n",
              "      <td>1</td>\n",
              "    </tr>\n",
              "    <tr>\n",
              "      <th>3</th>\n",
              "      <td>3</td>\n",
              "      <td>15 Civilians Killed In Single US Airstrike Hav...</td>\n",
              "      <td>Jessica Purkiss</td>\n",
              "      <td>Videos 15 Civilians Killed In Single US Airstr...</td>\n",
              "      <td>1</td>\n",
              "    </tr>\n",
              "    <tr>\n",
              "      <th>4</th>\n",
              "      <td>4</td>\n",
              "      <td>Iranian woman jailed for fictional unpublished...</td>\n",
              "      <td>Howard Portnoy</td>\n",
              "      <td>Print \\nAn Iranian woman has been sentenced to...</td>\n",
              "      <td>1</td>\n",
              "    </tr>\n",
              "  </tbody>\n",
              "</table>\n",
              "</div>\n",
              "      <button class=\"colab-df-convert\" onclick=\"convertToInteractive('df-cbde0932-dba7-459a-8ec5-cbd9e59d01fb')\"\n",
              "              title=\"Convert this dataframe to an interactive table.\"\n",
              "              style=\"display:none;\">\n",
              "        \n",
              "  <svg xmlns=\"http://www.w3.org/2000/svg\" height=\"24px\"viewBox=\"0 0 24 24\"\n",
              "       width=\"24px\">\n",
              "    <path d=\"M0 0h24v24H0V0z\" fill=\"none\"/>\n",
              "    <path d=\"M18.56 5.44l.94 2.06.94-2.06 2.06-.94-2.06-.94-.94-2.06-.94 2.06-2.06.94zm-11 1L8.5 8.5l.94-2.06 2.06-.94-2.06-.94L8.5 2.5l-.94 2.06-2.06.94zm10 10l.94 2.06.94-2.06 2.06-.94-2.06-.94-.94-2.06-.94 2.06-2.06.94z\"/><path d=\"M17.41 7.96l-1.37-1.37c-.4-.4-.92-.59-1.43-.59-.52 0-1.04.2-1.43.59L10.3 9.45l-7.72 7.72c-.78.78-.78 2.05 0 2.83L4 21.41c.39.39.9.59 1.41.59.51 0 1.02-.2 1.41-.59l7.78-7.78 2.81-2.81c.8-.78.8-2.07 0-2.86zM5.41 20L4 18.59l7.72-7.72 1.47 1.35L5.41 20z\"/>\n",
              "  </svg>\n",
              "      </button>\n",
              "      \n",
              "  <style>\n",
              "    .colab-df-container {\n",
              "      display:flex;\n",
              "      flex-wrap:wrap;\n",
              "      gap: 12px;\n",
              "    }\n",
              "\n",
              "    .colab-df-convert {\n",
              "      background-color: #E8F0FE;\n",
              "      border: none;\n",
              "      border-radius: 50%;\n",
              "      cursor: pointer;\n",
              "      display: none;\n",
              "      fill: #1967D2;\n",
              "      height: 32px;\n",
              "      padding: 0 0 0 0;\n",
              "      width: 32px;\n",
              "    }\n",
              "\n",
              "    .colab-df-convert:hover {\n",
              "      background-color: #E2EBFA;\n",
              "      box-shadow: 0px 1px 2px rgba(60, 64, 67, 0.3), 0px 1px 3px 1px rgba(60, 64, 67, 0.15);\n",
              "      fill: #174EA6;\n",
              "    }\n",
              "\n",
              "    [theme=dark] .colab-df-convert {\n",
              "      background-color: #3B4455;\n",
              "      fill: #D2E3FC;\n",
              "    }\n",
              "\n",
              "    [theme=dark] .colab-df-convert:hover {\n",
              "      background-color: #434B5C;\n",
              "      box-shadow: 0px 1px 3px 1px rgba(0, 0, 0, 0.15);\n",
              "      filter: drop-shadow(0px 1px 2px rgba(0, 0, 0, 0.3));\n",
              "      fill: #FFFFFF;\n",
              "    }\n",
              "  </style>\n",
              "\n",
              "      <script>\n",
              "        const buttonEl =\n",
              "          document.querySelector('#df-cbde0932-dba7-459a-8ec5-cbd9e59d01fb button.colab-df-convert');\n",
              "        buttonEl.style.display =\n",
              "          google.colab.kernel.accessAllowed ? 'block' : 'none';\n",
              "\n",
              "        async function convertToInteractive(key) {\n",
              "          const element = document.querySelector('#df-cbde0932-dba7-459a-8ec5-cbd9e59d01fb');\n",
              "          const dataTable =\n",
              "            await google.colab.kernel.invokeFunction('convertToInteractive',\n",
              "                                                     [key], {});\n",
              "          if (!dataTable) return;\n",
              "\n",
              "          const docLinkHtml = 'Like what you see? Visit the ' +\n",
              "            '<a target=\"_blank\" href=https://colab.research.google.com/notebooks/data_table.ipynb>data table notebook</a>'\n",
              "            + ' to learn more about interactive tables.';\n",
              "          element.innerHTML = '';\n",
              "          dataTable['output_type'] = 'display_data';\n",
              "          await google.colab.output.renderOutput(dataTable, element);\n",
              "          const docLink = document.createElement('div');\n",
              "          docLink.innerHTML = docLinkHtml;\n",
              "          element.appendChild(docLink);\n",
              "        }\n",
              "      </script>\n",
              "    </div>\n",
              "  </div>\n",
              "  "
            ]
          },
          "metadata": {},
          "execution_count": 10
        }
      ]
    },
    {
      "cell_type": "code",
      "source": [
        "X = df.drop('label', axis=1)"
      ],
      "metadata": {
        "id": "TFYBJork12-I"
      },
      "execution_count": null,
      "outputs": []
    },
    {
      "cell_type": "code",
      "source": [
        "X.head()"
      ],
      "metadata": {
        "colab": {
          "base_uri": "https://localhost:8080/",
          "height": 250
        },
        "id": "C4drck8e2FP0",
        "outputId": "9d8dd59e-5198-4d62-9b17-fa9d23d3c572"
      },
      "execution_count": null,
      "outputs": [
        {
          "output_type": "execute_result",
          "data": {
            "text/plain": [
              "   id                                              title              author  \\\n",
              "0   0  House Dem Aide: We Didn’t Even See Comey’s Let...       Darrell Lucus   \n",
              "1   1  FLYNN: Hillary Clinton, Big Woman on Campus - ...     Daniel J. Flynn   \n",
              "2   2                  Why the Truth Might Get You Fired  Consortiumnews.com   \n",
              "3   3  15 Civilians Killed In Single US Airstrike Hav...     Jessica Purkiss   \n",
              "4   4  Iranian woman jailed for fictional unpublished...      Howard Portnoy   \n",
              "\n",
              "                                                text  \n",
              "0  House Dem Aide: We Didn’t Even See Comey’s Let...  \n",
              "1  Ever get the feeling your life circles the rou...  \n",
              "2  Why the Truth Might Get You Fired October 29, ...  \n",
              "3  Videos 15 Civilians Killed In Single US Airstr...  \n",
              "4  Print \\nAn Iranian woman has been sentenced to...  "
            ],
            "text/html": [
              "\n",
              "  <div id=\"df-655ef889-1b1e-4c58-b354-76b3ced47970\">\n",
              "    <div class=\"colab-df-container\">\n",
              "      <div>\n",
              "<style scoped>\n",
              "    .dataframe tbody tr th:only-of-type {\n",
              "        vertical-align: middle;\n",
              "    }\n",
              "\n",
              "    .dataframe tbody tr th {\n",
              "        vertical-align: top;\n",
              "    }\n",
              "\n",
              "    .dataframe thead th {\n",
              "        text-align: right;\n",
              "    }\n",
              "</style>\n",
              "<table border=\"1\" class=\"dataframe\">\n",
              "  <thead>\n",
              "    <tr style=\"text-align: right;\">\n",
              "      <th></th>\n",
              "      <th>id</th>\n",
              "      <th>title</th>\n",
              "      <th>author</th>\n",
              "      <th>text</th>\n",
              "    </tr>\n",
              "  </thead>\n",
              "  <tbody>\n",
              "    <tr>\n",
              "      <th>0</th>\n",
              "      <td>0</td>\n",
              "      <td>House Dem Aide: We Didn’t Even See Comey’s Let...</td>\n",
              "      <td>Darrell Lucus</td>\n",
              "      <td>House Dem Aide: We Didn’t Even See Comey’s Let...</td>\n",
              "    </tr>\n",
              "    <tr>\n",
              "      <th>1</th>\n",
              "      <td>1</td>\n",
              "      <td>FLYNN: Hillary Clinton, Big Woman on Campus - ...</td>\n",
              "      <td>Daniel J. Flynn</td>\n",
              "      <td>Ever get the feeling your life circles the rou...</td>\n",
              "    </tr>\n",
              "    <tr>\n",
              "      <th>2</th>\n",
              "      <td>2</td>\n",
              "      <td>Why the Truth Might Get You Fired</td>\n",
              "      <td>Consortiumnews.com</td>\n",
              "      <td>Why the Truth Might Get You Fired October 29, ...</td>\n",
              "    </tr>\n",
              "    <tr>\n",
              "      <th>3</th>\n",
              "      <td>3</td>\n",
              "      <td>15 Civilians Killed In Single US Airstrike Hav...</td>\n",
              "      <td>Jessica Purkiss</td>\n",
              "      <td>Videos 15 Civilians Killed In Single US Airstr...</td>\n",
              "    </tr>\n",
              "    <tr>\n",
              "      <th>4</th>\n",
              "      <td>4</td>\n",
              "      <td>Iranian woman jailed for fictional unpublished...</td>\n",
              "      <td>Howard Portnoy</td>\n",
              "      <td>Print \\nAn Iranian woman has been sentenced to...</td>\n",
              "    </tr>\n",
              "  </tbody>\n",
              "</table>\n",
              "</div>\n",
              "      <button class=\"colab-df-convert\" onclick=\"convertToInteractive('df-655ef889-1b1e-4c58-b354-76b3ced47970')\"\n",
              "              title=\"Convert this dataframe to an interactive table.\"\n",
              "              style=\"display:none;\">\n",
              "        \n",
              "  <svg xmlns=\"http://www.w3.org/2000/svg\" height=\"24px\"viewBox=\"0 0 24 24\"\n",
              "       width=\"24px\">\n",
              "    <path d=\"M0 0h24v24H0V0z\" fill=\"none\"/>\n",
              "    <path d=\"M18.56 5.44l.94 2.06.94-2.06 2.06-.94-2.06-.94-.94-2.06-.94 2.06-2.06.94zm-11 1L8.5 8.5l.94-2.06 2.06-.94-2.06-.94L8.5 2.5l-.94 2.06-2.06.94zm10 10l.94 2.06.94-2.06 2.06-.94-2.06-.94-.94-2.06-.94 2.06-2.06.94z\"/><path d=\"M17.41 7.96l-1.37-1.37c-.4-.4-.92-.59-1.43-.59-.52 0-1.04.2-1.43.59L10.3 9.45l-7.72 7.72c-.78.78-.78 2.05 0 2.83L4 21.41c.39.39.9.59 1.41.59.51 0 1.02-.2 1.41-.59l7.78-7.78 2.81-2.81c.8-.78.8-2.07 0-2.86zM5.41 20L4 18.59l7.72-7.72 1.47 1.35L5.41 20z\"/>\n",
              "  </svg>\n",
              "      </button>\n",
              "      \n",
              "  <style>\n",
              "    .colab-df-container {\n",
              "      display:flex;\n",
              "      flex-wrap:wrap;\n",
              "      gap: 12px;\n",
              "    }\n",
              "\n",
              "    .colab-df-convert {\n",
              "      background-color: #E8F0FE;\n",
              "      border: none;\n",
              "      border-radius: 50%;\n",
              "      cursor: pointer;\n",
              "      display: none;\n",
              "      fill: #1967D2;\n",
              "      height: 32px;\n",
              "      padding: 0 0 0 0;\n",
              "      width: 32px;\n",
              "    }\n",
              "\n",
              "    .colab-df-convert:hover {\n",
              "      background-color: #E2EBFA;\n",
              "      box-shadow: 0px 1px 2px rgba(60, 64, 67, 0.3), 0px 1px 3px 1px rgba(60, 64, 67, 0.15);\n",
              "      fill: #174EA6;\n",
              "    }\n",
              "\n",
              "    [theme=dark] .colab-df-convert {\n",
              "      background-color: #3B4455;\n",
              "      fill: #D2E3FC;\n",
              "    }\n",
              "\n",
              "    [theme=dark] .colab-df-convert:hover {\n",
              "      background-color: #434B5C;\n",
              "      box-shadow: 0px 1px 3px 1px rgba(0, 0, 0, 0.15);\n",
              "      filter: drop-shadow(0px 1px 2px rgba(0, 0, 0, 0.3));\n",
              "      fill: #FFFFFF;\n",
              "    }\n",
              "  </style>\n",
              "\n",
              "      <script>\n",
              "        const buttonEl =\n",
              "          document.querySelector('#df-655ef889-1b1e-4c58-b354-76b3ced47970 button.colab-df-convert');\n",
              "        buttonEl.style.display =\n",
              "          google.colab.kernel.accessAllowed ? 'block' : 'none';\n",
              "\n",
              "        async function convertToInteractive(key) {\n",
              "          const element = document.querySelector('#df-655ef889-1b1e-4c58-b354-76b3ced47970');\n",
              "          const dataTable =\n",
              "            await google.colab.kernel.invokeFunction('convertToInteractive',\n",
              "                                                     [key], {});\n",
              "          if (!dataTable) return;\n",
              "\n",
              "          const docLinkHtml = 'Like what you see? Visit the ' +\n",
              "            '<a target=\"_blank\" href=https://colab.research.google.com/notebooks/data_table.ipynb>data table notebook</a>'\n",
              "            + ' to learn more about interactive tables.';\n",
              "          element.innerHTML = '';\n",
              "          dataTable['output_type'] = 'display_data';\n",
              "          await google.colab.output.renderOutput(dataTable, element);\n",
              "          const docLink = document.createElement('div');\n",
              "          docLink.innerHTML = docLinkHtml;\n",
              "          element.appendChild(docLink);\n",
              "        }\n",
              "      </script>\n",
              "    </div>\n",
              "  </div>\n",
              "  "
            ]
          },
          "metadata": {},
          "execution_count": 12
        }
      ]
    },
    {
      "cell_type": "code",
      "source": [
        "y = df['label']"
      ],
      "metadata": {
        "id": "G2NN2nua2F8n"
      },
      "execution_count": null,
      "outputs": []
    },
    {
      "cell_type": "code",
      "source": [
        "y"
      ],
      "metadata": {
        "colab": {
          "base_uri": "https://localhost:8080/"
        },
        "id": "Wce4-O6W2Jvm",
        "outputId": "f202cef1-fd77-495c-efbc-39433e0a99b6"
      },
      "execution_count": null,
      "outputs": [
        {
          "output_type": "execute_result",
          "data": {
            "text/plain": [
              "0        1\n",
              "1        0\n",
              "2        1\n",
              "3        1\n",
              "4        1\n",
              "        ..\n",
              "20795    0\n",
              "20796    0\n",
              "20797    0\n",
              "20798    1\n",
              "20799    1\n",
              "Name: label, Length: 18285, dtype: int64"
            ]
          },
          "metadata": {},
          "execution_count": 14
        }
      ]
    },
    {
      "cell_type": "code",
      "source": [
        "X.shape"
      ],
      "metadata": {
        "colab": {
          "base_uri": "https://localhost:8080/"
        },
        "id": "8k-hwII72KLj",
        "outputId": "4531b9fc-6f0a-4bcc-8d9c-4d3252c8ff38"
      },
      "execution_count": null,
      "outputs": [
        {
          "output_type": "execute_result",
          "data": {
            "text/plain": [
              "(18285, 4)"
            ]
          },
          "metadata": {},
          "execution_count": 15
        }
      ]
    },
    {
      "cell_type": "code",
      "source": [
        "y.shape"
      ],
      "metadata": {
        "colab": {
          "base_uri": "https://localhost:8080/"
        },
        "id": "wb_ZgwkN2Nal",
        "outputId": "7f7973ac-1210-471e-cab7-5adb74a7ad45"
      },
      "execution_count": null,
      "outputs": [
        {
          "output_type": "execute_result",
          "data": {
            "text/plain": [
              "(18285,)"
            ]
          },
          "metadata": {},
          "execution_count": 16
        }
      ]
    },
    {
      "cell_type": "code",
      "source": [
        "X.columns"
      ],
      "metadata": {
        "colab": {
          "base_uri": "https://localhost:8080/"
        },
        "id": "JsAm4AwxbX4o",
        "outputId": "05793dbf-a1bf-43d2-9666-c9a839e3da8e"
      },
      "execution_count": null,
      "outputs": [
        {
          "output_type": "execute_result",
          "data": {
            "text/plain": [
              "Index(['id', 'title', 'author', 'text'], dtype='object')"
            ]
          },
          "metadata": {},
          "execution_count": 17
        }
      ]
    },
    {
      "cell_type": "code",
      "source": [
        "# Finding the max words that a\n",
        "maxlen_text = {'highest' : [0, 0]}\n",
        "for index, word in enumerate(X['text']):\n",
        "  if len(word.split()) > maxlen_text['highest'][1]:\n",
        "    maxlen_text['highest'][1] = len(word.split())\n",
        "    maxlen_text['highest'][0] = index\n",
        "print(maxlen_text)"
      ],
      "metadata": {
        "colab": {
          "base_uri": "https://localhost:8080/"
        },
        "id": "3y2KFyadZpG_",
        "outputId": "564c25cf-7d4d-40b2-e7e6-f9019e44ba43"
      },
      "execution_count": null,
      "outputs": [
        {
          "output_type": "stream",
          "name": "stdout",
          "text": [
            "{'highest': [11907, 24234]}\n"
          ]
        }
      ]
    },
    {
      "cell_type": "code",
      "source": [
        "X['text'][0]"
      ],
      "metadata": {
        "colab": {
          "base_uri": "https://localhost:8080/",
          "height": 174
        },
        "id": "AwaPxiAAdp5E",
        "outputId": "a582e37e-b597-49c4-a983-160f816ff3ec"
      },
      "execution_count": null,
      "outputs": [
        {
          "output_type": "execute_result",
          "data": {
            "text/plain": [
              "'House Dem Aide: We Didn’t Even See Comey’s Letter Until Jason Chaffetz Tweeted It By Darrell Lucus on October 30, 2016 Subscribe Jason Chaffetz on the stump in American Fork, Utah ( image courtesy Michael Jolley, available under a Creative Commons-BY license) \\nWith apologies to Keith Olbermann, there is no doubt who the Worst Person in The World is this week–FBI Director James Comey. But according to a House Democratic aide, it looks like we also know who the second-worst person is as well. It turns out that when Comey sent his now-infamous letter announcing that the FBI was looking into emails that may be related to Hillary Clinton’s email server, the ranking Democrats on the relevant committees didn’t hear about it from Comey. They found out via a tweet from one of the Republican committee chairmen. \\nAs we now know, Comey notified the Republican chairmen and Democratic ranking members of the House Intelligence, Judiciary, and Oversight committees that his agency was reviewing emails it had recently discovered in order to see if they contained classified information. Not long after this letter went out, Oversight Committee Chairman Jason Chaffetz set the political world ablaze with this tweet. FBI Dir just informed me, \"The FBI has learned of the existence of emails that appear to be pertinent to the investigation.\" Case reopened \\n— Jason Chaffetz (@jasoninthehouse) October 28, 2016 \\nOf course, we now know that this was not the case . Comey was actually saying that it was reviewing the emails in light of “an unrelated case”–which we now know to be Anthony Weiner’s sexting with a teenager. But apparently such little things as facts didn’t matter to Chaffetz. The Utah Republican had already vowed to initiate a raft of investigations if Hillary wins–at least two years’ worth, and possibly an entire term’s worth of them. Apparently Chaffetz thought the FBI was already doing his work for him–resulting in a tweet that briefly roiled the nation before cooler heads realized it was a dud. \\nBut according to a senior House Democratic aide, misreading that letter may have been the least of Chaffetz’ sins. That aide told Shareblue that his boss and other Democrats didn’t even know about Comey’s letter at the time–and only found out when they checked Twitter. “Democratic Ranking Members on the relevant committees didn’t receive Comey’s letter until after the Republican Chairmen. In fact, the Democratic Ranking Members didn’ receive it until after the Chairman of the Oversight and Government Reform Committee, Jason Chaffetz, tweeted it out and made it public.” \\nSo let’s see if we’ve got this right. The FBI director tells Chaffetz and other GOP committee chairmen about a major development in a potentially politically explosive investigation, and neither Chaffetz nor his other colleagues had the courtesy to let their Democratic counterparts know about it. Instead, according to this aide, he made them find out about it on Twitter. \\nThere has already been talk on Daily Kos that Comey himself provided advance notice of this letter to Chaffetz and other Republicans, giving them time to turn on the spin machine. That may make for good theater, but there is nothing so far that even suggests this is the case. After all, there is nothing so far that suggests that Comey was anything other than grossly incompetent and tone-deaf. \\nWhat it does suggest, however, is that Chaffetz is acting in a way that makes Dan Burton and Darrell Issa look like models of responsibility and bipartisanship. He didn’t even have the decency to notify ranking member Elijah Cummings about something this explosive. If that doesn’t trample on basic standards of fairness, I don’t know what does. \\nGranted, it’s not likely that Chaffetz will have to answer for this. He sits in a ridiculously Republican district anchored in Provo and Orem; it has a Cook Partisan Voting Index of R+25, and gave Mitt Romney a punishing 78 percent of the vote in 2012. Moreover, the Republican House leadership has given its full support to Chaffetz’ planned fishing expedition. But that doesn’t mean we can’t turn the hot lights on him. After all, he is a textbook example of what the House has become under Republican control. And he is also the Second Worst Person in the World. About Darrell Lucus \\nDarrell is a 30-something graduate of the University of North Carolina who considers himself a journalist of the old school. An attempt to turn him into a member of the religious right in college only succeeded in turning him into the religious right\\'s worst nightmare--a charismatic Christian who is an unapologetic liberal. His desire to stand up for those who have been scared into silence only increased when he survived an abusive three-year marriage. You may know him on Daily Kos as Christian Dem in NC . Follow him on Twitter @DarrellLucus or connect with him on Facebook . Click here to buy Darrell a Mello Yello. Connect'"
            ],
            "application/vnd.google.colaboratory.intrinsic+json": {
              "type": "string"
            }
          },
          "metadata": {},
          "execution_count": 19
        }
      ]
    },
    {
      "cell_type": "code",
      "source": [
        "X['Combined_Text'] = X['title'] + '   ' +  X['text']\n",
        "X = X.drop(['title', 'text'], axis=1)"
      ],
      "metadata": {
        "id": "Tkhetl8C716Y"
      },
      "execution_count": null,
      "outputs": []
    },
    {
      "cell_type": "code",
      "source": [
        "X.head()"
      ],
      "metadata": {
        "colab": {
          "base_uri": "https://localhost:8080/",
          "height": 206
        },
        "id": "GEOSF5-u8eiD",
        "outputId": "19c1f9bd-0c84-4c2a-dcb8-79671e10bb91"
      },
      "execution_count": null,
      "outputs": [
        {
          "output_type": "execute_result",
          "data": {
            "text/plain": [
              "   id              author                                      Combined_Text\n",
              "0   0       Darrell Lucus  House Dem Aide: We Didn’t Even See Comey’s Let...\n",
              "1   1     Daniel J. Flynn  FLYNN: Hillary Clinton, Big Woman on Campus - ...\n",
              "2   2  Consortiumnews.com  Why the Truth Might Get You Fired   Why the Tr...\n",
              "3   3     Jessica Purkiss  15 Civilians Killed In Single US Airstrike Hav...\n",
              "4   4      Howard Portnoy  Iranian woman jailed for fictional unpublished..."
            ],
            "text/html": [
              "\n",
              "  <div id=\"df-e92988be-2159-4617-8a1f-03f73693f786\">\n",
              "    <div class=\"colab-df-container\">\n",
              "      <div>\n",
              "<style scoped>\n",
              "    .dataframe tbody tr th:only-of-type {\n",
              "        vertical-align: middle;\n",
              "    }\n",
              "\n",
              "    .dataframe tbody tr th {\n",
              "        vertical-align: top;\n",
              "    }\n",
              "\n",
              "    .dataframe thead th {\n",
              "        text-align: right;\n",
              "    }\n",
              "</style>\n",
              "<table border=\"1\" class=\"dataframe\">\n",
              "  <thead>\n",
              "    <tr style=\"text-align: right;\">\n",
              "      <th></th>\n",
              "      <th>id</th>\n",
              "      <th>author</th>\n",
              "      <th>Combined_Text</th>\n",
              "    </tr>\n",
              "  </thead>\n",
              "  <tbody>\n",
              "    <tr>\n",
              "      <th>0</th>\n",
              "      <td>0</td>\n",
              "      <td>Darrell Lucus</td>\n",
              "      <td>House Dem Aide: We Didn’t Even See Comey’s Let...</td>\n",
              "    </tr>\n",
              "    <tr>\n",
              "      <th>1</th>\n",
              "      <td>1</td>\n",
              "      <td>Daniel J. Flynn</td>\n",
              "      <td>FLYNN: Hillary Clinton, Big Woman on Campus - ...</td>\n",
              "    </tr>\n",
              "    <tr>\n",
              "      <th>2</th>\n",
              "      <td>2</td>\n",
              "      <td>Consortiumnews.com</td>\n",
              "      <td>Why the Truth Might Get You Fired   Why the Tr...</td>\n",
              "    </tr>\n",
              "    <tr>\n",
              "      <th>3</th>\n",
              "      <td>3</td>\n",
              "      <td>Jessica Purkiss</td>\n",
              "      <td>15 Civilians Killed In Single US Airstrike Hav...</td>\n",
              "    </tr>\n",
              "    <tr>\n",
              "      <th>4</th>\n",
              "      <td>4</td>\n",
              "      <td>Howard Portnoy</td>\n",
              "      <td>Iranian woman jailed for fictional unpublished...</td>\n",
              "    </tr>\n",
              "  </tbody>\n",
              "</table>\n",
              "</div>\n",
              "      <button class=\"colab-df-convert\" onclick=\"convertToInteractive('df-e92988be-2159-4617-8a1f-03f73693f786')\"\n",
              "              title=\"Convert this dataframe to an interactive table.\"\n",
              "              style=\"display:none;\">\n",
              "        \n",
              "  <svg xmlns=\"http://www.w3.org/2000/svg\" height=\"24px\"viewBox=\"0 0 24 24\"\n",
              "       width=\"24px\">\n",
              "    <path d=\"M0 0h24v24H0V0z\" fill=\"none\"/>\n",
              "    <path d=\"M18.56 5.44l.94 2.06.94-2.06 2.06-.94-2.06-.94-.94-2.06-.94 2.06-2.06.94zm-11 1L8.5 8.5l.94-2.06 2.06-.94-2.06-.94L8.5 2.5l-.94 2.06-2.06.94zm10 10l.94 2.06.94-2.06 2.06-.94-2.06-.94-.94-2.06-.94 2.06-2.06.94z\"/><path d=\"M17.41 7.96l-1.37-1.37c-.4-.4-.92-.59-1.43-.59-.52 0-1.04.2-1.43.59L10.3 9.45l-7.72 7.72c-.78.78-.78 2.05 0 2.83L4 21.41c.39.39.9.59 1.41.59.51 0 1.02-.2 1.41-.59l7.78-7.78 2.81-2.81c.8-.78.8-2.07 0-2.86zM5.41 20L4 18.59l7.72-7.72 1.47 1.35L5.41 20z\"/>\n",
              "  </svg>\n",
              "      </button>\n",
              "      \n",
              "  <style>\n",
              "    .colab-df-container {\n",
              "      display:flex;\n",
              "      flex-wrap:wrap;\n",
              "      gap: 12px;\n",
              "    }\n",
              "\n",
              "    .colab-df-convert {\n",
              "      background-color: #E8F0FE;\n",
              "      border: none;\n",
              "      border-radius: 50%;\n",
              "      cursor: pointer;\n",
              "      display: none;\n",
              "      fill: #1967D2;\n",
              "      height: 32px;\n",
              "      padding: 0 0 0 0;\n",
              "      width: 32px;\n",
              "    }\n",
              "\n",
              "    .colab-df-convert:hover {\n",
              "      background-color: #E2EBFA;\n",
              "      box-shadow: 0px 1px 2px rgba(60, 64, 67, 0.3), 0px 1px 3px 1px rgba(60, 64, 67, 0.15);\n",
              "      fill: #174EA6;\n",
              "    }\n",
              "\n",
              "    [theme=dark] .colab-df-convert {\n",
              "      background-color: #3B4455;\n",
              "      fill: #D2E3FC;\n",
              "    }\n",
              "\n",
              "    [theme=dark] .colab-df-convert:hover {\n",
              "      background-color: #434B5C;\n",
              "      box-shadow: 0px 1px 3px 1px rgba(0, 0, 0, 0.15);\n",
              "      filter: drop-shadow(0px 1px 2px rgba(0, 0, 0, 0.3));\n",
              "      fill: #FFFFFF;\n",
              "    }\n",
              "  </style>\n",
              "\n",
              "      <script>\n",
              "        const buttonEl =\n",
              "          document.querySelector('#df-e92988be-2159-4617-8a1f-03f73693f786 button.colab-df-convert');\n",
              "        buttonEl.style.display =\n",
              "          google.colab.kernel.accessAllowed ? 'block' : 'none';\n",
              "\n",
              "        async function convertToInteractive(key) {\n",
              "          const element = document.querySelector('#df-e92988be-2159-4617-8a1f-03f73693f786');\n",
              "          const dataTable =\n",
              "            await google.colab.kernel.invokeFunction('convertToInteractive',\n",
              "                                                     [key], {});\n",
              "          if (!dataTable) return;\n",
              "\n",
              "          const docLinkHtml = 'Like what you see? Visit the ' +\n",
              "            '<a target=\"_blank\" href=https://colab.research.google.com/notebooks/data_table.ipynb>data table notebook</a>'\n",
              "            + ' to learn more about interactive tables.';\n",
              "          element.innerHTML = '';\n",
              "          dataTable['output_type'] = 'display_data';\n",
              "          await google.colab.output.renderOutput(dataTable, element);\n",
              "          const docLink = document.createElement('div');\n",
              "          docLink.innerHTML = docLinkHtml;\n",
              "          element.appendChild(docLink);\n",
              "        }\n",
              "      </script>\n",
              "    </div>\n",
              "  </div>\n",
              "  "
            ]
          },
          "metadata": {},
          "execution_count": 21
        }
      ]
    },
    {
      "cell_type": "markdown",
      "source": [
        "## Importing Deep Learning Libraries"
      ],
      "metadata": {
        "id": "sHy8J_Rp2kre"
      }
    },
    {
      "cell_type": "code",
      "source": [
        "import tensorflow\n",
        "from tensorflow import keras\n",
        "from keras import Sequential\n",
        "from keras.layers import Bidirectional, LSTM, Dense, Embedding, Dropout\n",
        "from keras.preprocessing.text import one_hot\n",
        "from tensorflow.keras.preprocessing.sequence import pad_sequences"
      ],
      "metadata": {
        "id": "zESPs9ad2eUD"
      },
      "execution_count": null,
      "outputs": []
    },
    {
      "cell_type": "code",
      "source": [
        "# vocab size\n",
        "vocab_size = 5000"
      ],
      "metadata": {
        "id": "elqzI4N53Ky3"
      },
      "execution_count": null,
      "outputs": []
    },
    {
      "cell_type": "markdown",
      "source": [
        "### One Hot Representation"
      ],
      "metadata": {
        "id": "-jjuJEy12bWU"
      }
    },
    {
      "cell_type": "code",
      "source": [
        "text = X.copy()\n",
        "text.reset_index(inplace=True)"
      ],
      "metadata": {
        "id": "W2cPrcVC2dw1"
      },
      "execution_count": null,
      "outputs": []
    },
    {
      "cell_type": "code",
      "source": [
        "import re\n",
        "import nltk\n",
        "from nltk.corpus import stopwords"
      ],
      "metadata": {
        "id": "9VGeG5ep8swy"
      },
      "execution_count": null,
      "outputs": []
    },
    {
      "cell_type": "code",
      "source": [
        "nltk.download('stopwords')"
      ],
      "metadata": {
        "colab": {
          "base_uri": "https://localhost:8080/"
        },
        "id": "juwgxFbV86EQ",
        "outputId": "c7164ed6-98c7-45d4-f328-3a9a977cf7f8"
      },
      "execution_count": null,
      "outputs": [
        {
          "output_type": "stream",
          "name": "stderr",
          "text": [
            "[nltk_data] Downloading package stopwords to /root/nltk_data...\n",
            "[nltk_data]   Package stopwords is already up-to-date!\n"
          ]
        },
        {
          "output_type": "execute_result",
          "data": {
            "text/plain": [
              "True"
            ]
          },
          "metadata": {},
          "execution_count": 26
        }
      ]
    },
    {
      "cell_type": "markdown",
      "source": [
        "### Data Preprocessing of the Combined_Text column in X\n",
        "* Removing Special Characters replacing by ' '\n",
        "* Converting to Lower Case\n",
        "* Applying Stemming"
      ],
      "metadata": {
        "id": "r75MLXdr94_4"
      }
    },
    {
      "cell_type": "code",
      "source": [
        "## Data Preprocessing\n",
        "from nltk.stem.porter import PorterStemmer\n",
        "ps = PorterStemmer()\n",
        "corpus = []\n",
        "stop_words = set(stopwords.words('english'))\n",
        "for i in range(0, len(text)):\n",
        "  review = re.sub('[^a-zA-Z0-9]', ' ', text['Combined_Text'][i]) # Removing Special Characters\n",
        "  review = review.lower()\n",
        "  review = review.split()\n",
        "  # review = review[:300]\n",
        "  review = [ps.stem(word) for word in review if word.lower() not in stop_words]\n",
        "  review = ' '.join(review)\n",
        "  corpus.append(review)"
      ],
      "metadata": {
        "id": "yd7epatK88iw"
      },
      "execution_count": null,
      "outputs": []
    },
    {
      "cell_type": "code",
      "source": [
        "corpus[0]"
      ],
      "metadata": {
        "colab": {
          "base_uri": "https://localhost:8080/",
          "height": 174
        },
        "id": "ls81Zzl6APRg",
        "outputId": "600b9891-cb27-4d35-f8a9-bd37e8ddc912"
      },
      "execution_count": null,
      "outputs": [
        {
          "output_type": "execute_result",
          "data": {
            "text/plain": [
              "'hous dem aid even see comey letter jason chaffetz tweet hous dem aid even see comey letter jason chaffetz tweet darrel lucu octob 30 2016 subscrib jason chaffetz stump american fork utah imag courtesi michael jolley avail creativ common licens apolog keith olbermann doubt worst person world week fbi director jame comey accord hous democrat aid look like also know second worst person well turn comey sent infam letter announc fbi look email may relat hillari clinton email server rank democrat relev committe hear comey found via tweet one republican committe chairmen know comey notifi republican chairmen democrat rank member hous intellig judiciari oversight committe agenc review email recent discov order see contain classifi inform long letter went oversight committe chairman jason chaffetz set polit world ablaz tweet fbi dir inform fbi learn exist email appear pertin investig case reopen jason chaffetz jasoninthehous octob 28 2016 cours know case comey actual say review email light unrel case know anthoni weiner sext teenag appar littl thing fact matter chaffetz utah republican alreadi vow initi raft investig hillari win least two year worth possibl entir term worth appar chaffetz thought fbi alreadi work result tweet briefli roil nation cooler head realiz dud accord senior hous democrat aid misread letter may least chaffetz sin aid told shareblu boss democrat even know comey letter time found check twitter democrat rank member relev committe receiv comey letter republican chairmen fact democrat rank member receiv chairman oversight govern reform committe jason chaffetz tweet made public let see got right fbi director tell chaffetz gop committe chairmen major develop potenti polit explos investig neither chaffetz colleagu courtesi let democrat counterpart know instead accord aid made find twitter alreadi talk daili ko comey provid advanc notic letter chaffetz republican give time turn spin machin may make good theater noth far even suggest case noth far suggest comey anyth grossli incompet tone deaf suggest howev chaffetz act way make dan burton darrel issa look like model respons bipartisanship even decenc notifi rank member elijah cum someth explos trampl basic standard fair know grant like chaffetz answer sit ridicul republican district anchor provo orem cook partisan vote index r 25 gave mitt romney punish 78 percent vote 2012 moreov republican hous leadership given full support chaffetz plan fish expedit mean turn hot light textbook exampl hous becom republican control also second worst person world darrel lucu darrel 30 someth graduat univers north carolina consid journalist old school attempt turn member religi right colleg succeed turn religi right worst nightmar charismat christian unapologet liber desir stand scare silenc increas surviv abus three year marriag may know daili ko christian dem nc follow twitter darrelllucu connect facebook click buy darrel mello yello connect'"
            ],
            "application/vnd.google.colaboratory.intrinsic+json": {
              "type": "string"
            }
          },
          "metadata": {},
          "execution_count": 28
        }
      ]
    },
    {
      "cell_type": "code",
      "source": [
        "corpus[11907]"
      ],
      "metadata": {
        "colab": {
          "base_uri": "https://localhost:8080/",
          "height": 174
        },
        "id": "tdIWeid9cxWx",
        "outputId": "3e7887fa-2b55-4228-e954-65c32f588073"
      },
      "execution_count": null,
      "outputs": [
        {
          "output_type": "execute_result",
          "data": {
            "text/plain": [
              "'hard work american vs govern parasit hard work american vs govern parasit michael snyder april 10th 2012 lifestyl choic produc better result hard work american govern parasit actual look cold hard number may surpris america today deepli penal hard work greatli reward govern depend live liber area countri know game system entir possibl live comfort exist without ever work much fact american live govern benefit decad mani peopl actual plan live around exactli need qualifi mani benefit possibl america rapidli turn european style socialist welfar state destroy nation social financi ever sinc war poverti began debt absolut explod yet poor peopl countri ever obvious someth work get wrong deepli believ compass go tough time safeti net cannot take care singl person nation go without food sleep street america today absolut ridicul mani peopl climb aboard safeti net point astound 49 percent american live home receiv form govern benefit pay peopl drag bed go work day pay moment let examin lifestyl typic hard work american compar lifestyl govern parasit america today median yearli household incom somewher around 50 000 half american household make half american household make less break come 4000 month far 4000 go america today unfortun go far first hard work american famili need place live unfortun vast major decent job near big citi expens live near big citi let assum averag famili four spend 1000 month rent mortgag payment govern parasit hand whole host feder state local hous program take advantag recent econom downturn american ever turn govern help hous cost exampl feder hous assist outlay increas whop 42 percent 2006 2010 place live provid power heat averag hard work american go probabl averag 300 month although vari greatli depend live govern parasit whole host govern program help exampl liheap low incom home energi assist program assist low incom household pay home heat bill averag hard work american also go need phone internet servic let assum hard work famili four exampl extrem thrifti spend 100 month servic govern parasit cell phone servic problem written previous qualifi receiv free cell phone free cell phone minut everi singl month feder govern addit area nation low incom famili qualifi deepli subsid home internet servic order earn money hard work famili go need get work household parent decid work day need car let assum famili thrifti car purchas use car payment total 400 month hard work famili also need auto insur two vehicl let assum parent great drive record pay total 100 month car insur car also need fill gasolin averag u household spent 4155 gasolin 2011 let assum famili care spend 300 ga month govern parasit well govern parasit need go work expens potenti elimin entir sinc thing paid govern deepli subsid mani instanc govern parasit actual abl afford nice vehicl addit new bill low incom gasolin assist program act introduc congress would give qualifi household money help pay gasolin low incom gasolin assist program act direct secretari health human servic make grant state establish emerg assist program pay elig household purchas gasolin hard work american famili also go need health insur well know expens health insur becom fact health insur cost risen 23 percent sinc barack obama becam presid let assum hard work famili somehow abl find amaz deal pay 500 month health insur famili four govern parasit health insur need emerg govern parasit go get free medic care emerg room cours alway medicaid back 1965 one everi 50 american medicaid today one everi 6 american medicaid thing get whole lot wors project obamacar add 16 million american medicaid roll food everyon eat right well hard work famili exampl face environ food price constantli rise paycheck keep let assum hard work famili exampl clip coupon cut corner way spend 50 member famili food suppli week come total 800 month entir famili govern parasit govern parasit need eat well food stamp come right 46 million american food stamp sinc barack obama becam presid number american food stamp increas 14 million food stamp becom popular rapper even make rap video use food stamp card okay stand well averag hard work famili far spent 3500 4000 spend month still need find money cloth pay credit card debt pay student loan debt dine entertain medic pet hobbi life insur vacat car repair mainten child care gift retir save wait actual money left forgotten one biggest expens tax total feder state properti tax averag hard work famili go pay least 1000 month tax put averag hard work famili hole everi singl month meanwhil govern parasit pay tax earn enough money tax start get pictur mani way life much easier constantli take govern instead constantli give govern new jersey governor chri christi recent put way bunch peopl sit couch wait next govern check dump kind nightmar economi written frequent u economi simpli produc enough job everyon anymor creat major problem everyon need help hand point alway compassion need howev also grow number american content simpli give live govern fundament wrong job u govern take care cradl grave u govern suppos make sure well function economi oper environ hard work individu small busi thrive sadli u govern fail miser regard desper need u economi fix hold breath wait happen econom condit get even wors countri million american go turn govern assist point safeti net go break countri go look like happen shock truth unemploy america one chart david h preach michael work financ industri tell mani applic see singl mother 1 4 kid case differ father get child support afdc wic hous assist boyfriend ex husband live make 2 5k month peopl live better other work system one tell anyth differ addit issu anoth larg issu peopl barter paid cash avoid taxat complet go pay dearli arrog indiffer ignor rancher know often time would rather burn cash send govt pay bum sit home everi darn thing keep leach grasp prepar pastor briefli date woman three children saw realli game system subsid townhous apart nicer home util base incom made great dinner use food stamp last semest colleg earn bachelor degre ask plan colleg told go anoth degre could stay dole broke imagin free cell phone michael would say sure dodg bullet pastor michael joel want idea sress creat worker look toward belgium europ countri best welfar system birth death govern umbrella cours come price activ workforc pay instanc know immigr receiv money govern right live decent even without work bring famili alon arriv famili reunion excus turn right also amount money receiv 900 1200euro per month expens workforc way demograph pyramid complet revers first belgian welfar system build around era full employ 50 60 workforc made young gener babyboom everyth rebuild war babyboom becom papyboom right retir etc etc yet system base activ workforc made less young peopl underqualifi meant crash one day anoth see usa go toward european version welfar system huge mistak destroy foundat countri jo l misterd unfortun believ pass point beyond return best anyon hope miracl get readi inevit crash pray nobodi forc middl mess liter protect oneself crazi peopl etc ashley b final someon afraid say someth sicken see peopl leech system easi money food cours free know lot peopl live get food stamp ssi welfar etc free want work mani lazi take trash serious yet rest famili earn live work hard look bum drive nice car sit home day pump paycheck mean kid get wrong peopl honestli need help often donat needi differ pure lazi bum take benefit lazi work jodi say love pump paycheck mean kid true friend retir nurs seen lot young peopl hospit child good intens go colleg get degre go school get marri get pregnant even graduat without even think start good life financi prepar get medicaid welfar money job take care child sheepdog 1 guarante govern parasit pay come judgement day mean cours never pay recoveryless recoveri great articl usual one main reason american sheepl revolt yet precis thank govern hand program current exist inde well said mani mani american actual plan entir lifestyl around whatev take continu qualifi unfortun rest us long dumpster behind mcdonald slob dive free food never go hungri revolut rewquir hungri peopl checkmat today america offer two viabl expect achiev actual hope chang believ one requir wield passport one way ticket oversea requir wield ak 47 go option paul foster depend illegitim govern instal media fraud outright elect fraud like us realli da give exampl system flaw father work full time life paid tax forth doctor found canser late short time live work intil day fell could walk famili support finac best could go gover help food stamp gave 14 dollar month w f buy shop discount store mani peopl use food stamp watch peopl got nice car nice cloth bag full food mean hurri back 12 year old truck wouldent late work small bag crap food guess need lean milk system r p dad mondobeyondo 14 00 month gasp explan come mind govern must use employ incom data 1912 2012 realiti uncl sam flat broke much pride tell broke bernadett sick sorri hear ridicul even know say god bless poor dad go sorri jodi true known peopl life littl possibl get govern assist seem proud believ deserv question happen govern run money pay peopl depend long sound good noth see go back sleep ron think greec wm jodi go back sleep money run inevit borrow money stop come thers free loader clue like actual someth riot protest burn citi america consid futur event time nation cleans million million law abid citizen enjoy 2nd ammend work sure bear arm protect entitl zombi come take popul decreas cleans entitl crowd pleas sleep time prepar keep watch thing go get interest nation near futur jodi never go sleep seem like media ignor stuff treat peopl like time go back sleep meant 007 ever watch zombi movi lot like govern check stop jame poor unemploy u never abl get govern role experienc like call revers industri revolut industri revolut time farmer attract big citi job paid high wage compar farm incom experienc high unemploy job never come back unless energi situat somehow revers unemploy peopl soon realiz someway get food feed especi food stamp govern assist start disappear unemploy peopl begin reloc rural area find home grow produc food sell rest incom situat start appear countri go colleg good invest anymor real need colleg nowaday medicin engin law would better take loan farm open small busi rather go colleg farm agrarian relat job make good money especi busi revers come fruition small rural town come back life support famili provid reason good life tom real need colleg nowaday medicin engin law medicin engin ye law last thing countri need anoth lawyer sorri michael mani problem face countri caus lawyer fear law suit tom sorri lawyer nowwthen good point find work useless bachelor degre still account pay back student loan even go bankruptci like advis instead borrow money buy farm start busi hard work would benefit famili corpor view expend busi expens busi fail loan could reduc elimin bankruptci mani kid brought told studi hard grow find good job parent tell studi hard learn run busi involv good wiseman would better take loan farm open small busi rather go colleg farm agrarian relat job make good money jame right money know mani peopl buy leas small acreag grow crop 1 5 acr build cottag industri sick tire milk cow govern leech right thing starv beast need major news network never report trend happen peac revolut begun cours govern may react forc labor bernadett wow realli good idea agre mani level run presid need someon helm sharp mind creativ idea idea destruct come washington everyth said made much senc know pray cinderella man agre go back basic rural live becom mean end futur hope live superslum citi tommorrow ky survivor one step closer total control welfar state god help us josh highli doubt jesu would use term parasit describ fellow human da right would call leach anoth richard viper mathew 3 7 jesu polit correct sweet christian laodocian america colin better term david h true would say get rear end work live abl least volunt time worthi caus help justifi free lunch rel draw ssdi social secur disabl volunt say help justifi disabl payment reciev need peopl world like 007 sluggardli leach man work let eat proverb steve blog refer feed nanni state million govern valueless worker make 75 150 k year perk rosi pension start draw turn 60 unless doubl tripl dip parasit free loader dole altogeth parasit make half america popul stage empir exist say let collaps go hellish longer govern prop dog poop fiat money chaotic michael steve ye right written inflat compens govern worker get past michael klean system broken right anymor stop think right way someth go back sleep interest earn live spunkybunk lazi obes sister one parasit asham know worthless husband even bother show around us anymor know think less well five children 3 high school dropout far great welfar system amrica reward loser sit around breed idiot paul nice famili famili valu gone day tax payer pay famili noth complain done prevent niec nephew drop high school bernadett sister lucki support famili help hard time bet support whole life success good job mom dad mattyboy start hide incom make extra cash thing legal hidden gone long time eu tax close 90 want pay fed number reason wish revolt 200 million decid pay tax guess would need 58 million like make cash claim would also support flat tax abolit ir trust gov alway need money kathi smith total agre matti wish way get everyon pay tax 1 pay check buy gasolin 1 day would get attent paul http www thoughtsfromaconservativemom com 2012 02 number american depend govern jump 23 welfar state consum 70 feder budget mark landlord sinc 1981 longer manag apart complex seen michael write past make sad see countri gone use proud nation could anyth longer popul strong heart becom weak useless countri peopl think everyon els owe live tappedop umpteenth time dont get mad get even cant get mad youv labotom air food water program mind control yea laugh say get even well cant figur one well chemic weapon total remov abil criticli think game done toast go back danc star rodster gary2 pictur da would gladli pictur sistrunkqueen agre articl think american paid tax abl get type govern assist tax payer also unemploy need assist betcha appli dad vietnam vet qualifi food stamp say po mom want get aid anyway help make end meet explor sister wic need govern assist sign oh way got free phone great local call mckinley morganfield tax payer also unemploy error comput error review data resubmit cinderella man dude take tax unemploy check mckinley morganfield ye take fica end realli govern play charad simpli give less btw ss medicar suppos fund fica receipt red everi 1 00 dc spend 0 40 borrow money annual interest payment feder debt soon 500 000 000 000 think continu anoth 5 year 10 year 20 year rancher excus barf rodster big differ someon realli luck need help could get job problem said otoh someon want live gubmint stay home play call duti mw3 watch tv sir might gary2 brother luck sever time one point name month worth rent know took 3 minimum wahe job pay bill refus ask gubmint assist figur would point return mal r name welfarequeen tatiana covington well let starv death done get rid unfit weakl klean yeah food power parasit 007 go quietli night turn violent hunt skill anyth els believ comment got moder tell certain thing moder tatiana covington perhap world made free red ryan appear author writer two comment serious snif someth articl wast time read mere standard diatrib hard work famili filthi mass guy drink wall street gop dlc kool aid tom low baloney vast sea profession freeload drag world tatiana covington http www youtub com watch v nzspsovnvii featur relat hognutz ye one drag bed everymorn go work parasit feed littl longer feel end soon keep work million welfar depend alreadi gone economi simpli produc enough job everyon anymor creat major problem problem compani leav countri start obama took offic implement harsh environment rule environ issu way start implement solar power wind power etc 20 thirti yr ago technolog alway ww2 germani alreadi make bio fuel potato vegtabl methanol ga cow shit uncl told back depress day would creat batteri bank hook gener windmil charg batteri power lite hous nite wrote jess ventura day gov mn call greyhound chicago pipelin peopl chicago would come use famili rel adress claim resid mn get welfar check go back chicago one individu said time go retir mn becasus easi get welfar 26 yr old time democrat parti pound welfar drum want add peopl welfar roll state hell go pay state alreadi money problem need anymor sinc told confus let relat fact sharonj one reason georg bush would sign kyoto treati back presid irrevers damag would u economi obama done way look happen mix togeth ptb desir creat global economi somebodi pay price obviou neither democrat republican care either old phart tell point gun way peopl countri stupid lazi need get fat ass quit stuf face full potato chip get educ job truth hurt tire see hard earn money go deadbeat live nice easi life one ounc respect peopl make happen gay veteran problem compani leav countri start obama took offic pure bs know obama fan outsourc start mckinley morganfield protect fool folli action fill world fool want someth subsid want less someth punish name compass reward fool made bad choic subsid bad choic gener gener punish frugal hard work via regul tax low interest rate democraci danger creat class citizen benefit frugal hard work other rob peter pay paul work run peter rob compass truli needi fault leech must starv blood suck way mondobeyondo system seem gear toward reward parasit truli honestli hard luck situat need help hand speak parasit leech decid make govern depend career choic ladi ahem use term loos accustom pump babi everi coupl year get better benefit food stamp aid depend children wic child support hope sugar daddi knock come way 9 month even move bloat gluteu maximu okay obes donkey couch life grand govern assist program creat leech suck lifeblood hard work peopl anoth richard govern assist program creat make mass depend upon gubmit roosevelt said noth happen gubmit accid gubmit undrestand human natur well depend human becom freebi cooper gubmit attack honest hard work peopl produc thing real tax payer produc good servic want freebi stop gubmit leach parasit mass defend gubmit giveaway death gubmit know when dinner simpl everybodi want eat corn nobodi want plow field tom low lot us mind plow field fact actual enjoy mondobeyondo hope feder incom tax money ye pay year go help lazi pathet sloth know know exactli go start get angri like angri thank incred hulk intent take advantag system someon go play johnni cash ring fire funer sayin 007 infuri aspect welfar system unrealist unsustain welfar state slowli sure strangl economi higher tax regul overbear law destroy abil busi surviv inevit unsustain benefit end like end greec parasit freebi stop starv like domest pet turn violent either way night mare similar post apocalypt zombi movi piti life tri avoid eaten aliv parasit current live govern tit tom low believ one reason built camp fema 007 great articl michael certainli articul crisi slowli strangl life countri read articl feel abl look futur see nightmar end least see prepar share articl everyon clearli frame fight countri ultim surviv michael 007 thank share articl articl may seem littl harsh truth societi could use tough love michael need give tough love real parasit corpor welfar michael think find articl post michael 007 tremend slap face everyon work struggl everi day make live provid famali pat let also add 1 europ garbag man make much incom physician neither fire incompet 2 incom tax place high 70 deduct 3 govern direct competit busi 4 littl fish hunt pollut rife 5 go univers 6 must regist live 7 even name chang approv court want use name approv list 8 peopl live small flat often without bath tub 9 spain kitchen denmark shower tub 10 protest must approv govern welcom futur mani sector u educ system mani schoolteach fire incompet mani suspect teacher teach leader tomorrow futur teacher teach futur biologist musician artist plumber scientist web page design doctor veterinarian name job teacher highli underpaid athlet coach dean well compens cours mayb import tri garbag worker go strike month soon realiz essenti view abroad 1 like stay albania 2 seem speak scandinavian countri sweden finland denmark norway vast major even top incom tax bracket approv see superior educ system overal effici govern even welfar system 3 ye right govern choos e g wast manag ecolog recycl max instead leav like baron sanit rememb soprano realli think better matter 4 rural europ much fish hunt rural us cours mayb much fish e g thame rhine go fish downstream hudson river see catch 5 surpris quit lot go univers without burden student loan rest live mostli free except elit institut mean elit rich 6 ye 7 ye coupl immigr cologn germani year ago want name newborn son osama bin laden http www spiegel de panorama 0 1518 212569 00 html sorri right wrong turn brutal fascist jackboot civil servant horribl 8 9 well get afford even europ heard rumor somewher germani even franc flat water closet never seen one poor old european 10 oh ye horribl luckili us ralli amount peopl time like let get taser thug call polic gary2 stop speak truth ruin lot low inform foolish republican conserv world view 100 correct like said realiti well known liber bia marcu eastern europ 30 year ago scandinavia quit well atm would say less welfar usa pay 30 tax 30 get healthcar well live nice hous new car eat good healthi food almost servic privat even one financ tax n consid rich middl class opinion middl class actual grow way countri oil ever europ mayb romania idiot gwyn sick hear wonder live govern hand one start work 16 age 50 health back went done manual work life stand 5 min need sit live 718 month get 50 food stamp winter may get 500 winter heat hous 300 month cold winter use give 150 cool summer end could help peopl winter need car could afford repair broke mean friend pay ga money cab shop bu go doctor also medicaid wonder either grate go clinic wait month six week appoint go emerg ward also pill chang time state decid get better deal anoth compani good live one tower pay 1 3 incom lucki famili left part ownership hous properti tax pay hous insur repair get free phone internet pay tax go pay money doctor pill lot agre live like mean entertain bake bread clean hous chair also cloth second hand goodwil lot visit peopl day get sick idea poor pay tax bill get kind tax anyon use servic pay well much less less fun less go less buy lot food live 50 see far take rest come monthli check love dream everi month sit sofa till idea like live pain live problem come live look forward fear watch state feder govern talk thing need cut give peopl live fanci hous money want vote man presid bank account place like island countri special bank law make mistak know cut come go easi goodnight million dollar congress men women keep golden reward know neither parti friend also know game play work peopl money got rip instead yell head offend worri less denni articl betray hors famili mani liabil everi month pay much tax 1 part though pay near much rel 50 000 wage earner pay also suspici articl mention corpor welfar usual receiv twice much social welfar recipi let forget lobbyist locke martin contract except glorifi corpor welfar blackmail corpor pull municip promis build factori environ exempt pay local tax nah articl republican democrat crap blame us hit hardest consequ war wealthi laid live infrastructur job wast surpris find site tom low articl quit clearli direct profession freeload unemploy peopl jeremi disagre much michael predict assert articl nation come brink mani time write elit welfar wealth hoard time fair leonard dear michael take away everi singl benefit peopl end creat plenti crimin street end jail get free food free air condit librari internet free health care mani mani year come mention articl time ago somebodi check jail kind fake holdup order get health care prison think end pay bankster fat cat corpor good luck rememb everyth price job social program somebodi give hire job ship oversea million work peopl happi lay off end pay one way anoth mani peopl go becom success like bill gate steve job almost everybodi good luck rememb play lotteri next time anybodi win 200 000 000 let give solut michael let bring job back outsourc last two decad go happen cours michael leonard ye write free trade trade deficit peopl understand happen michael vyselegendair econom condit get even wors countri million american go turn govern assist point safeti net go break countri go look like happen egypt chao major metropolitan area around nation mayb drug entertain infus simpli throw hand pull pant big daddi govern oh forget mention amount peopl take subsid anti psyochot medic peopl suddenli come expens drug let us hope violent outburst reach level well known mass murder associ come ssri like sgt bale afghanistan curt ye insur cost gone peopl unemploy exampl industri whose greed boundless let forget top coupl percent incom maker paid share could mean clean water educ health everyon planet certain parti tri sink system without come altern world would anyon greedi want privat natur resours industri ruin countri greed legaci stan top race war riot come citi near black panther doubt get suit boot arm race war never end let tell someth thing happen honki cracker pig pink peopl mother turtl peopl long overdu happen one honki cracker pig pink peopl mother turtl peopl might end dead reason white nexus789 amaz number self righteou pompou individu us never welfar state like depend system evolv placat mass us economi declin peopl adapt game system expect happen million job ten thousand factori close shore china india etc million unemploy go payment food stamp etc way keep idl mass passiv point end us bankrupt auster measur introduc mani payment withdrawn food stamp unemploy benefit medic support etc get wish reap consequ paul common sharehold contribut success compani sharehold true parasit draw money compani noth return paul depend ye sharehold manag chairmen bureaucrat politician paul hong kong everi citizen right medic treatment public hospit entranc fee usd10 paid vat hong kong 66 hong kong peopl pay incom tax max incom tax 15 gross salari minimum 2 hong kong govern debt last year much money left paid everi hong kong citizen 18 usd600 addit gave everi tax payer tax rebat usd600 wrong de malfoss ever sinc war poverti began debt explod certain amount accuraci write war poverti ran alongsid hors imperi race viet nam war viet nam war direct sourc american monetari difficulti today argu debt explos much much mainten uncl sam empir imperium tremend amount american tax continu flow outward neighbor welfar suggest welfar bum easi obviou target deliber promot uncl sam divert attent empir 70 year histori perpetu conflict war interfernec affair nation exampl countri xxx offend anyon receiv averag 5 million day 60 year american taxpay back qualifi gov parasit neighbor welfar damag entir compani say lockhe martin gov teat sinc truman presid tom low excel point although clearli directli relat topic actual see ground work night day 800 month 6 year colleg long ago complet abl bodi guy never bother go school noth month smoke dope get 900 neoisolationist work wife work long time unemploy would one 49 percent collect govern benefit want unemploy intend vote current administr come novemb lot 49 percent want continu scam system say group like wife think 49 percent enough percentag could wrong cours recal hear obama want get 75 percent popul get kind govern assist think would agre 49 percent alot enough michael america today deepli penal hard work greatli reward govern depend thing franc longtim disabl could 1000 govern benefit support get job get busi mani tax benefit disabl stupid world chri great articl michael usual imo overlook critic compon problem breakdown famili structur know fulli awar thought could use mention cold day hell anyon famili accept sort assist gov jazzag miss three import area govern depend articl one liber blue state pay feder tax get back excess goe conserv red state whine govern could exist without excess govern contract militari base etc state old confederaci get almost 2 back everi dollar pay two greatest amount welfar countri money taken tax middl class subsid rich big busi exampl privat prison industri privat prison privat compani run prison becom lobbyist bribe lawmak make law make thing illeg prison revenu three peopl kid deduct pay less tax point essenti zero tax kid mother welfar ye also republican get away pay littl tax guess make differ us fewer kid gener liber peopl also pay full freight properti tax fund public school hypocrisi conserv moron astound say let get rid public fund school end corpor welfar guis set loser southern state watch size feder budget plummet gary2 100 correct michael never acknowledg speak truth let fact get conserv lean welfar church pastor hous err mansion tax free want subsid rich paster megachurch poor michael ever goiong real fact welfar point church biggest welfar scam jazzag right forgot church pay tax yet butt way onto everi polit convers use power church promot idiot idea welfar bottom exist prevent riot street welfar top reason govern exist gary2 church pastor home tax payer subsid mega church mansion also tax free barn cat new gold rush tri qualifi ssi consid legal disabl tom low sprain ankl walk job interview qualifi ssi dave hello read blog time good read non mass media propaganda howev subscrib notion usa rest world descend anarchi overnight continu gradual declin next 3 5 year far mere policymak blame system oper perpet growth fuell cheap energi energi rise monetari cost also energi input cost econom contract inevit peak oil definit shale tar sand prove get desper time perhap peopl may need return rural agrarian lifestyl pre indutri age order surviv sun stil rise set think anarchi come either least live slow decay order whatev happen would rather die help fellow man content life lucki go defend stash dec 2012 rubbish fyi calendar gregorian end everi 400 year funnili enough still around anoth richard powerz hold rip cord gargantuan unpay debt usa europ satisfi ever grow level debt pull rip cord trillion deriv end 2012 timelin commenc new world oder mean order believ startl frighten sudd sever collaps jack leper unit state govern parasit hard work peopl gary2 journalist chri mooney discuss new book republican brain scienc reject scienc realiti new book republican brain scienc reject scienc realiti scienc journalist chri mooney survey grow bodi data explain signific think author mistak assum republican brain begin chuck govern biggest parasit michael govern feed hard work american lifeblood chri hmm although popular thought realli feel govern hand dime anyon reason church suppos suppos help widow disabl poor etc anti christian societi given better state expect govern take care push church church still take care though matter kind rule gov tri push side note realli burn call atheist anti christian etc would tri justifi jesu would want social govern take care peopl via handout complet differ bibl read howev jesu knew clear peopl take care famili hardship hit church specif church member other congreg suppos help sadli church goer self absorb bibl defic will help church member think govern ugh catch 22 sorri rambl great articl hit nerv eric ferguson articl exampl america go massiv debt gone nation maker nation taker peopl content sit receiv enough money govt live yet peopl like go work support lazi peopl nowwthen countri grew said rememb day 60 70 anyon high school diploma mani without one could find job live wage smokestack offic build countri need worker gener hate thing devolv semi socialist societi michael paint corpor lobbyist convinc countri leader buy belief toss u worker world labor pool somehow good us ten million job lost result add technolog unemploy caus robot computer replac human labor wonder unemploy underemploy remain record level person exhaust 99 week unemploy lose job held 20 year like reason govern caus job go away govern must pay took guess refer moral hazard like think american would still prefer work job paid decent wage rather stay dole sadli happen long good american job elimin lopsid free trade polici product gain result autom less human labor jeremi think clearli make good point winston smith though agre asses lack job good pay one problem part result statement encourag train peopl nation boss employe wage slave depend other guild destroy larg reform usher dog eat dog selfish economi highli individualist said guild could provid train placement apprenticeship benefit health insur etc 20 30 rcc laiti land associ usa britain due lacklust support clergi none protest depress ww ii die vine purpos train men famr buy rent farm provid other ditchl surviv sort 1989 men might gotten train nowher go noth buy use rent afterward continu unemploy stuck filthi citi mani reli lot readi cash equiti suck buy franchis lot get loan whole lot buy buis plu train open bar grill great would love know first thing payrol tax hold order product etc pete ye true accur inform 27 month unemploy job offer 1 4th former salari cost everyth twice much choic get back work suck like good sheopl best drive spear beast heart tri kill merci kill actual boil buckl stiff upper lip shoulder wheel nose grindston give go idea support crook deciet errant polici loos game go merci help put ail beast us economi death right wound danger anim get wrong possibl nurs back health board howev bernank politico decid inject growth hormon diet five hour energi drink practic good medicin evil want see suffer anim put sleep tom low happen 25 year ago swore kill beast know go win tom low btw got zip unemploy corpor pig zip got right job low pay walmart crap jeremi anger last juli still account god action requir work best apostl paul work eat miseri websit help either use visit site daili realiz provid key fact knowledg futur give mani day difficult trust find peac valley side encourag peopl actual good job servic bless take bar exam juli look adventur god take gemtap track use make pay back whent get real job debtor prison cinderella man good topic michael know dad get infuri around tax time work unemploy expir work underground economi paid tabl work breifli get snap assist caus way feed im work read articl like often ask work tax time piss alreadi told welfar mama got back 8 000 eic also get section 8 hous assist food stamp basic produc illegetim children appli aid presto set life keep work fool million welfar depend michael almost everyon need help point key pick back get help exactli blame go temporari troubl gotten comfort live system year year never tri get troubl michael davidmpark exactli side late thing realli work work govern contractor wife becam sever disabl 5 year ago left get part time merchandis job big box closer young kid safeti net live big liheap fund 2 month worth util per year paperwork cost us 30 process mail 4 hour fill photocopi medicaid limit kid disabl cover everi 3 month fill 15 page review send relat document prove everyth claim time either miss document enough info laps 10 15 day social secur disabl trial half final got full disabl 4 year 1000 document law firm much 1100 per month sinc realli hous assist everyon els alreadi program wait list 4 year almost goe rent kid onlin charter school well actual read math school district abysm failur qualifi discount free internet cut servic 3 month appli unless let kid fall way behind qualifi cell phone discount free caus still work part time need quit get one wife loos medic coverag other fun system spend time wait check spend lot time tri build afford creat util grow food look better job work home said sever disabl need get 5 got work till 11 lucki seizur someth stay home day clean hous help kid school fill paperwork cook bless stuff workshop go bed 12 paradis near hell know profit much program know us experi work feder govern sure bureaucrat run program live sweet life guy make 100 000 per year salari alon spend time meet tom low case illustr realli need help difficulti get system clog rank freeload know numer fulli abl bodi mental compet peopl get ssi 900 larg veteran mental disabl payment 2500 noth actual alcohol pill peopl knew guy get 2500 plu ss concoct mental disabl ptsd militari helicopt accid come liar actor even combat came 11th month whine alreadi broke well live van past 43 year freeload phoni ptsd disabl spent 2500 11 day live tune 225 per day show broke whine 11th self suffici peopl way share dumpster meal keep roof head sent camp fema speak often work littl 1 2 per hour mani year think sort automat minimum wage better realiz thing intend surviv davidmpark thank tom mondobeyondo one need see govern effici best go local depart motor vehicl offic get vehicl regist 30 counter avail two employe two counter assist custom 600 peopl sit stare screen chase kid alreadi bad sign press littl green button machin near entranc ticket read number 863 loudspeak announc serv number 108 come even post offic better gary2 2 employe dmv right wing gov like soon replac walker cut cut cut stop vote repub dian c realli peopl like need help abl get enough problem entir system govern broke realli take advantag realli need would think govern big bloat would enough peopl check thing howev would effici order govern certainli wish famili best davidmpark davidmpark okay need clarifi thing wife actual disabl sever traumat brain injuri caus epilepsi thing coma almost year relearn everyth cost life real easi fake ct scan numer test second know game system give em request info tell get honesti pay guy point hate program use ebt card public embarrass thing stare cashier give damn hide card best swipe quickli stash eyesor away receptionist doc offic ask insur alway whisper answer gov peopl want someth right good pass law void zone law famili legitim disabl member capabl rear anim produc thing limit guy want us castrat program serv food storag pretti basic someon mention program take kid forc wife assist live kind partial divorc societi want stuck phillip sherwood peopl person know work system get rich tread water sinc doubl famili member work low wage job work system enough eat children abl access health care mani caught drug abus alcohol hardli abl maintain work hard low wage job work agre one level throw money peopl worthless cut bad sinc children one suffer rememb church grew work monetari polici individu assist genuin care pastor went great length assist member mental ill mother neither pastor church got thing except right thing done peopl knew man congreg care youth pastor said brother keeper thought refer specif scriptur fumbl answer bibl clear cover cover answer tom low miss whole point articl state mani freeload burden well intent system design truli needi never say even impli needi peopl get help say peopl needi rob system stan522 agre govern susten program burden howev burden inevit sinc govern defin success increas budget get mani peopl reliant alway grow program free loader definit alway happen politician openli feed peopl guilt put support ridicul program equat charit give money privat support program support govern take money creat program thing govern alway ineffici gary2 brother keeper passag michael christian site stan522 gubamint program suppos make rich intend keep captiv low level susten politician get keep vote play system put vote block ensur continu candidaci goe program home mortgag interest deduct hope lifetim learn tax credit student loan child depend care tax credit earn incom tax credit food stamp miss none provid peopl need get hook like crack addict tell friend break away govern handout find way success insid everi singl one us god given need unleash stan522 believ point may taker giver societi politician open vote give free stuff safeti net politician leverag vote block destroy countri polit greed power money entic weak becom weaker accept bribe immor illeg destroy drive success self relianc determin american michel idea much hit home god bless jox unfair disappoint articl talk piti state thing america suddenli without justif equat european style socialist welfar destroy nation social financi even wors end pictur noth content articl like social ok let discuss argument method pick someth like associ somehow social unfair appropri otherwis brilliant articl exactli far left blame problem world america capit way let inform social econom advanc prosper countri world european socialist social democrat word exist english go hard time find argument ethic polit countri model everybodi tom low everyon europ know europ biggest freeload entir world biggest tom low fact europ noth whole subcontin wholli dedic freeload rest world centuri gary2 michael becom idolog right wing warrior fact whatev hear fox longer think self crap probabl transcrib rush pill head bimbo show downwithlib see even screw loos sad piti knightowl77 well model would like emul see 3 5 year ever think support gov ts take one group provid anoth role gov would care subject keep barn cat lot govern job necessari job lot peopl incred arrog think god work govern saw work censu superior deal peopl work depart commerc peopl noth compar god bobbi line 2 14 appli bernadett everi time read someth like make blood boil mindset make fight tooth nail get ssi work life pay dissabl list ill longer left arm ssi deni tri find way drive 200 mile away go court hear peopl seem think easi get gov help need tri get ssi benefit sinc 2009 final becam sick work work year ill got bad manag 2009 bernadett btw would much rather abl get go work everyday like use miss work ridicul think peopl creat creat work would rather sit sick could get hundr dollar everi month free talk social hitler mind set let strong surviv weak go wall believ mani believ public assist church suppos take care sick peopl like gov church suppos rob old ladi ss suppos care christian certainli complain servic assist sick old peopl oh well come wash jesu get back even pleas come quickli lord jesu cinderella man bernadett woundnt mad get ssi perfectli healthi young teenag 20 someth say depress bi polar get sit around goof day rest us foot bill btw reason peopl depress govt tyrran materialist tom low exactli phoni 420 patient ptsd phantom pain pill puppi gary2 90 christian hypoctrit max one need read site proof stan522 left behind anoth richard wrong 90 christian hypocrit 100 christian trueli christian anoth news flash buster god see heart person alon know true hypocrit quit wast energi tri pick true christian useless examin life relationship god best thing could other ozmo thank much post would well everyon live 2 cent stan522 like govern creat program big promis make near imposs attain move goal post mid game extend qualifi year farther farther steal bankrupt pander vote block retire near retire garner vote one bastard first place problem keep believ sob everi time speak wari politician come gubamint program take care us besid enough live get would rather kept money 40 year still go instead give ripoff artist beef work whole life believ promis politician issu bastard redund politician make fals promis leverag vote promis free stuff go straight hell mondobeyondo rememb scene movi titan jack ask rose hold onto hand ship sink jump jump wrong scene scene ship take final plung bottom undertow would suck anyon near ship water usa titan peopl abus system depend u govern surviv drag underwat alreadi underwat mortgag wink wink suck everyon els along chri pyramid wealth could describ popul would parasit top bottom top 1 also live parasit exist mean peopl like banker ceo other produc noth get rich scam basic live parasit exist actual work middl pyramid middl larg popul underclass genuin hardwork peopl game system middl support lower upper part pyramid host support certain amount energi go parasit live much energi lost mani parasit host kill stage must get close top corrupt fraud greed set exampl follow face corrupt top indol middl lose heart see support unjust system may give citizen paramed 21 year continu see thing worsen peopl use call em love one sick seem free taxi servic sadli realiz care haul around someon may actual need servic even though pay foir give peopl hand get tire third pay go buy cell phone minut like built hous payday payday land famili put feeder pig calf broke sod 2 acr ground garden wind power breez 3 underground spring site mean let collaps parasit forc work michael good articl michael use free taxi servic sad michael citizen state wv individu activ em give reason state hospit want go take even give us name choos call call haul top mani use non emerg ambul want spend money ga bu go dr visit non urgent medic love state wish state would reform system could save countless money live optimist oh yay get built hous paycheck paycheck million us paycheck ceo parasit 1 parasit churn grab money job outsourc golden parachut whatev job gone come back grossli smug superior lost hous prep homestead homestead thing year without good sourc incom busi fail 2 year ago lost think singl second invulner incap lose paycheck lose mayb deeper understand realiti parasit forc work hate think want job fool hate fool pleas read karol comment real parasit top dc corpor boardroom citizen smug fool mean harsh auster home eat ramen bologna sandwich work til 3 morn hous get work 0800 even claim 8000 tax credit borrow bankster scratch odd job day smug guess shoe fit work system live lap luxuri gone without provid roof food famili ye prepar come hope feel anyon loos job realli comment meant condescend toward anyon say timeless today ever judg man travel footstep libertyin413 interest repeat other said would like add believ govern benefit safeti net thing govern tax read steal produc assist read redistribut other poor receiv benefit entitl sic connect elit get welfar govern set safeti net exacerb problem may exist price skyrocket provid know increas back full faith credit us tax payer hurt peopl program intend help first place assist done privat local chariti way truli temporari help hand someon hit hard time organ church monitor fraud progress claim work never read step altern pile child prostitut die old peopl street tri make way sweatshop job standard live increas like histori never seen peopl allow keep fruit labor one incom household could support 5 6 peopl children better educ new car applianc etc progress model standard live decreas drastic everyon contribut household incom need hop safeti net reach unpreced level lastli even produc lucki enough retain earn tri defer later consumpt hit hidden tax inflat destroy wealth actual decreas purchas power made possibl crimin malevol action feder reserv karol hi michael thank write honest inform articl longer watch news read local paper mostli rubbish websit fascin recommend site friend famili bodi like lazi cheat game system live fed parasit wall street fat cat politician crimin c 1 game system decad expens rich crook stolen billion american peopl far food stamp famili ever life time bofa paid feder tax 2010 got billion dollar rebat well read paid feder tax 2011 either compani make billion dollar give million dollar bonus everi year pay feder state tax tax payer rob local level polic fire station affect school bridg road repair parasit send children best school vacat world multipl home tenni court pool multipl car jet get eat best food probabl cook hous chef housekeep nanni best health care money buy could go disney multi billionair compani got welfar firework display multi millionair sam donaldson got welfar mohair realli school suck minimum wage adjust inflat 22 50 hour peopl get screw time half time vacat time pension health care etc work lucki get 20 hour week wage theft best way 1 steal 99 peopl ignor even realiz rob work 1 privat club boston dock paycheck 3 week work poor singl mother richest peopl felt need steal 3 week wage wow afford work free quit begrudg obes lazi unmotiv scam system realli especi sinc benz jag driveway lawn servic patch grass maid clean sub par high fructos hydrogen sodium lace junk food dinner get fuel assist keep warm eat food stamp dinner watch judg judi good michael karol ye written mani articl corrupt bankster elit well definit side michael mr g larg right karol mani peopl well would far better dishonest bother us today real earn privileg lot lot unearn unfair big cash go fat cat ruin countri time get money mean could least good job cash think even tri realli good luck jimmi citizen find vote money e democrat parti alreadi occur system head straight hell destin failur khristu4 honestli fix problem like need free energi possibl held corpor own banker govern control one thing ad list divid peopl keep docil long movi 2hr stuff may way open mind describ food chain bank corpor govern peopl well http www youtub com watch v lev5affcz grandpa parasit speak live miniscul turd dispers leech thrive 95 oxygen burn rich vs poor black vs white gov vs god someday peopl may get ball revers genocid play upon us corey lewi wow great articl love ex wife one friggin parasit 15 year best rais kid lifestyl dead rot bodi say peopl never work hard refus work hard deserv resid countri put boat ship even pilot boat rick know least one parasit particular live older sister mani year final divorc leach govern subsist type peopl one thing common employ stan522 rest govern job ever dmv nobodi special low incom gasolin assist program act introduc 2005 fortun gone anywher sinc mention let give idea reviv mike person lose job first thing appli unemploy run save run food run kid honestli think govern let live dehydr food shelf basement foodstamp medicaid take kid show proof incom regardless hous paid enough money time pay bill anoth year first time take kid e r someth open whole crap worm insur stitch bike accid kid medicaid foodstamp tri posit govern wast use give foodstamp restock shelv next go around pleas answer question situat even neg one get site daili first comment michael make good point michael tom low person talk talk lot fulli abl bodi peopl scam gummint benefit also work underground economi year year tex yeah hypocrit alway talk person person front real need ye abus experi peopl would rather work money walk work broken glass jump hoop bureaucraci demand meager pittanc fact us economi toilet sheepl go let romney flush enough job even cash economi 6 10 hour job pay rent feed man kid altern peopl work govern system eat turn crime justic street enough gun countri turn tide start think time quit rhetor get real go end badli us mondobeyondo forgot kid aspect situat children whoa talk grow fast children dire situat need ask budget erheault wander road total autom industri need middl lower semi skill labor dwindl unemploy unabl work multipli face revolt nation past present undergo work unknown happen us dont matter presid congress nation countri histori surviv devalu moni massiv unemploy head enjot ride histor say least bryan simpl peopl nation gotten far god reap sow matter time lord jesu christ return mark beast come see u mare debt european countri alon look happen matter time much lord know wheter believ amaz see propheci fullfil right front eye fix huge world financi mess read revel chapter 13 turn heart god still live age grace monk cut spend donald wilson bum live like vultur live system crash burn one day later tom low landlord lower middl class neighborhood 105 lb 135 lb 2007 lack food time cook almost noth profession freeload far eye see could tell stori freeload would make blood boil right hope gummint final stop issu absurd freeload check benefit send profession freeload camp fema right next bankster crimin right belong get dead butt start someth mean mayb cinderella man good man need bulk protien powder high fructos corn syrup immedietli 105 that skinni offens tom low scari surround sea human sinker mean everyth half need done enough time money eat well enough especi coffe cig feed sever spoilt cat whatev els might decid indulg like sever hour read blog comment ok ya caught eva yup good time job growth prosper get rid man oval offic replac someon take creat busi friendli environ serious return congress baselin budget sinc 1974 budget reform act add 10 annual feder budget regardless necess hardli need add regardless feder revenu sharonsj articl like piss right winger like blame anybodi struggl surviv never attack corpor welfar exxonmobil earn 5 billion year past four year paid tax got tax refund corpor get away murder rob us blind exec prison let guy steal food grocer caus afford buy meat land jail know remain amaz stupid american public swallow republican talk point folk learn look fact comput instead ye men help repub steal left countri michael written quit bit corpor pay tax corpor welfar take place michael gary2 100 articl poor 1 corpor welfar come michael see bs michael gari know hit goldman sach far harder hit poor michael gary2 said corpor welfar goldman suck bash poor way corpor welfar far bigger cost sharonsj economist richard wolff point last 30 year corpor along govern rig system pay 25 cent tax 1 tax paid averag citizen also said peopl understood screw second american revolut michael ye discuss corpor taxat quit bit articl post michael winston smith true never seem upset conserv benefit lot big govt big biz answer lower tax spend get govt way el pollo de oro call gc three gs gun gold getaway plan gerald celent michael snyder write econom condit get even wors countri million american go turn govern assist point safeti net go break ye break god help banana republ america formerli usa thing go get realli nasti third world nightmar often said go get tough desper desper thing rob steal sell drug mug carjack kidnap thing make danger live caraca ciudad juarez port moresbi guatemala citi kingston long list third world citi high rate violent crime collect dread desper peopl desper thing tax dpddtt wealthi minor end pay surround dirt poor major think peopl realiz evil abomin countri becom alex jone america place use look declin go countri anybodi believ dollar go reserv currenc beyond gerald celent third world countri ultra danger visit morocco lot poverti lot violent crime lot tout tri sell carpet need definit see bra move direct realli violent danger third world countri kidnap way life cop often cahoot thug think baltimor detroit philadelphia st loui bad wait worst yet come rural place necessarili go safe either know hit fan small town mexico extrem danger cours smart prepper understand thing one listen alex jone gerald celent paul craig robert gari johnson ron paul realiz guy alarmist tell like truth pretti gun recommend keep safe secur place know use gun come handi dpddtt collector come knockin banana republ america william real govern parasit actual 90 feder worker gs wg feder employe grossli overpaid littl work almost imposs fire one slacker get tenur brother law retir gs 14 last job wash dc took newspap magazin work read anyth civil servic wage grade feder worker sit around littl except read benefit manual hard fact tx4life tv offic paid taxpay watch sever hour day one want confront ignor let go also watch tv good portion day work job requir gs wg hour even though prohibit one want confront look way come go pleas never list time weekli time card requir end year take decemb use lose accumul time continu grow wors one will anyth 50 000 0 3 15 000 0 3 30 tax rate 50 000 15 000 35 000 12 2916 month 2916 4000 2916 even crazier think quit wide margin add love see find rent 1000 lo angel anywher tri minimum 1400 live hell bed fold wall serious consid build cabin nice land middl nowher buy 20 year suppli ramen noodl hear feed call thing 142 year mr g known plenti parasit realli work system amazingli well work chariti relat job citi found peopl come latin american countri welfar form fill even got plane come rotten also rotten realli tri often get help know much welfar scam will help need deserv tend help deserv exampl mani poor american kid read get special help foreign nation go parent get educ work fanci profession job get special english tutor tax payer dime go wake help never never turn help come one reason cannot even support republican anymor never support democrat mean spirit mani peopl never daytoday good articl michael take time away doom gloom although imposs escap entir agre articl know peopl 1st hand welfar famili welfar govt assist adult live work walmart one time one guy work use construct worker welfar 2yr cut receiv 1 000 month welfar compar 800 month work walmart understand peopl choos leach system forev liter pay depend independ stay strong keep good work david gurney new gop slogan believ hope must dope mad max truth none us realli work hard anymor get mad peopl discov first sucker want work hard work modern extens slaveri ancient time peopl want becom rich want free free want pleas jade fool want work hard jade fool would critic other want kill make someon els dream come true rather spend time famili thing realli love think 1 care work butt care work butt stupid 99 persist nonsens guess gotten wish behav like slave complain treat wake read common sens 3 1 http www revolution2 osix org fight caus symptom els say free http wearefre osix org john rambo nevermind welfar peopl women women bankrupt america suck system dri special women right privledg also drove away big corpor afraid frivil lawsuit women american women sue happi sue compani employ stupidest reason realli blame corpor outsourc countri radic feminist like american women main one destroy america femin destroy america go start blame real culprit michael go grow ball start speak truth instead water like michael michael john rambo ye rare call women feminist main caus behind econom collaps america also american women destroy ten million men live financi divorc court financi destroy ten million men live help economi either go directli expos women primari culprit behind collaps tex joh rambo sure rick santorum slum gary2 ive paid system peopl use person know 10 peopl use system get ssi one disabl rest lie get ssi lie keep say depress back hurt etc etc etc read coment funni peopl diserv ssi none peopl lie get give back money shouldnt help stranger money paid hell could retir ive paid sinc 15 im 48 man get dam job quit fake work period know take four five yr didnt stop bum know dont forget tell peopl back pay money sorri come shouldnt support stranger help famili one els includ food stamp get one third money taken tax etc spend get tax dont care shouldnt rais child get job even flippin handburg enough enough sorri taken coma ran sentenc togeth youll get point gay veteran ever sinc war poverti began debt absolut explod yet poor peopl countri ever fact pleas feder debt start explod reagan michael explod long time parti blame michael tom singa ye blame obama debt increas slightli need put control obama doubl debt period way argu otherwis evi america rapidli turn european style socialist welfar state evid say wish european socialist state tex even canadian style conserv one tom singa well leav go live gary2 michael estim 3 5 welfar recepi get benefit fraudent game system know focus 3 5 abus system make better headlin ignor 95 97 get benefit get would die part liter know ayn rand wet dream may want world social darwin like fool paul ryan horribl world would record believ 3 5 abus system need kick dealt gary2 corpor welfar welfar rich way welfar poor michael turn fox better gary2 49 percent american live home receiv form govern benefit wall street corpor bailout put economi recess need finish tape end michael stop sop disingenuin know better gary2 michael one side corpor parasit rich parasit congress much extra averag famili pay parasit sunk new low articl one side incomplet fact hardli read crap misterc haunt blog troll gary2 nice hypocrit christian refer god children parasit knew noth make peopl think christian push come shove right libertarian selfish crowd probabl realli worship magog rhynn way anybodi go spend 400 month gasolin ride motorcycl simpli job nowher go thu even afford 400 month even econo box cost close 60 70 per full tank 87 ga live nobodi go fill car 6 time month employ tri doubl goe 1000 month rent mortgag bare get singl worst area citi one person could make circumst famili four complet forget unless live car eat 7 11 park behind add insur health coverag car mainten etc quadrupl 4000 figur size famili even pretend comfort 16k figur mention net america bad punchlin noth newton even much actual peopl realli cost us incred innefect almost inexhaust amount bureaucrat support personnel program mean michael want find money trail follow singl minor mother 3 kid 2 differ guy live burb mom dad next door mean amaz peopl individu casework make casework keep job get rais viciou cycl say 30 year percentag row boat equal percentag ride boat boat stop rower grow weari cannot rest becom depend like run marathon stop mile 21 breather guarante never pick pace law 113 200 right behind eat calori burn gain weight day number howev rower know thing make thing repair thing parasit much one day give 3 5 year gonna find worth countri current farmer make 60k senat make 160k bet role gonna chang joe govern employ sector overpay million lazi call worker either noth day push meaningless govern drippl articl shill fat cat rich greedi would take social secur peopl earn benefit peopl truli need never hear lazi govern union parasit type articl that real parasit run america want keep go even govern employe lay got full pay benefit appli unemploy like privat sector alway get special privileg includ right paycheck without work amount alot money pay noth far exce amount anyon receiv govern benefit get work fill space stand around look stupid job necessari work keep corrupt polit machin go govern employe lazi pack overpay overprivileg spoil brat think everyth life hand silver platter yet one word utter elit master master seek make live forc onto govern benefit miser anoth attempt class warfar tom singa get fire jame hard work american vs govern parasit good one occur hard work type call work actual chattel slave farm indian would never understood person must continu pay live piec ground born think nobl work poor despic say system keep function head peopl thought like system would end tomorrow support mess deal take man right demand payment live land take step circumv crime rest creat continu support way disdain poor parasit one psyop rich master run divid lower middl class nowwthen guess tri hard enough justifi disdain take care throw nonsens indian paid work slaveri sudden smarter self suffici man woman entitl take timothi leari dead geniu get fat go work jame look term sheepl wikipedia learn jame put otherwis job fool also moral liabl keep mess go better less take care need stole land put us cage illeg person satan blood ticket trade curs refus good littl obedi slave yeah take give rest come sens rememb disdain govern dole serv turn come pray enviou demograph demon poor point put work camp mr g right jame realli need much labor make world run much labor goe support peopl us want want want live happili lifestyl 1930 full life great mani hobbi interest requir constant outlay money though oddli other thing spend constantli actual thing much anymor live like want fine ought work like dog produc plastic crap enslav littl peopl mr g jeremi lot anger comment suggest log come per week blood pressur drop starr make sick know econom disast america 53 year old work sinc 14 unfortun compani work 7 year went busi put unemploy 8 month make crazi work alot skill put sever applic job job govern lie us want keep us control wake america need get rid social commun destroy countri mondobeyondo even maggot work way system becom worm ye know funni sorri jimbo vip start appear roadsid ditch bail wire around wrist bullet hole behind ear everi morn thing continu get wors bill im mistaken system curs givin free food shelter call cage worker expens curs system also firm belief work refus whatev reason like enough money dont like kind work whatev starv live street wood ever work men women support peopl lazi work believ part man anyway support famili support famili feel shouldnt work one kid support someon think he man wont work rowel michael call statement live liber area countri know game system entir possibl live comfort exist without ever work much say liber area countri peopl take advantag system sever southern conserv state among top recipi govern aid citizen state alabama mississippi extrem high number peopl welfar say liber problem divis pleas keep object report would lend credibl articl especi us middl like liber like gary2 hard core conserv michael ye true peopl game system countri happen littl easier liber area chicago michael excel articl wait one great job nex case year longest time one want notic got hick alabama live subsidi cradl grave got black ny economi turn thank mortgag everyon sudden becam issu stop polic world conquer whoever money default alreadi let watch fli phoenix great seen problem loud clear solut howev open mind free thinker envis differ better world like talk solut orient instead problem orient best way promot chang http rondetafelbeleid nl meritocraci ivan foreign live work countri sort strang watch american yell social socialist norway debt 48 gdp socialist denmark 49 socialist sweden 37 socialist east germani unif 25 unit state 69 includ intra govern debt like medicar social secur debt owe individu state japan cool 208 tell social kill america gary2 low inform right wing voter easili manilup fox scandavian countri beat usa pretti much everi catagori socialist need much socialist drop self made man crap simpli myth pauli manipul left wing voter sagaci sad littl child think man gari agre benjik articl govern parasit think ye ye brunot let tell high school educ wife nanni till 23 make 300k year quit surpris self employ semi retir 48 busi mow lawn broke sweat everi day know eh imposs achiev anyth without govn check ignor statement tom singa oh cash base busi run tabl pay fair share pleas tell name lawn care id like report ir tim ye hear time look popul countri take norway exampl popul 5 million us 311 million know norway oil countri without oil economi would probabl stagnat compar appl orang friend argument countri better look factor oil countri marcu spend less earn simpl sweden oil countri socialist studi economi rant pleas market driven economi strong government influenc problem us sinc consid govern servant american consid govern enemi sometim feel like america aim freedom end anarchi hate usa expect 20 year ago peopl europ dream california dream emir malaysia singapor hong kong canada benjik cherenkov retard american lucki higher standard live better health care less better educ cultur event vacat day least doubl govern pocket corpor gosh terribl thing get vote parliamentari system view might actual repres instead co opt politician own lock stock barrel corpor elit anyon believ stupid stori deserv crappi american life get gary2 michael listen libertarian dream tom singa spoken like true piss antt mooch bob marshal european style social exactli need market fundament think propaganda govern involv alway bad success also harm societi georg soro tri defend 49 without doubt tom singa true mooch mia typic liber fox news channel make sens glad believ fairytal chang liber leader want us believ american dream die marxism go ahead nobodi chang anyway go sit couch get free money want govt care hardwork taxpay suffer lib care lee even know ideolog behind marxism american dream find come back explain kill american dream fact loyal follow fox word explain differ liber conservit shown lack knowledg assum attend colleg pay use pell grant student loan sometim think speak thefulishbastid let get logic straight everyon welfar snap medicaid game system quit job tomorrow better yet will fire appli socialist benefit voila live high life rollin caddi wakin noon head store buy steak girl drink smoke wee hour morn wake 1 afternoon ad infinitum sign option get rid benefit peopl live demand folk go get job exist think quit day job though mayb go work soup kitchen one day see well folk blame woe truli live tom singa song will live dump share nice home wiht other thing better yet even home charg roomi rent cash jf work lo angel live 1 hour away thank god parol agent mani parole claim mental health ailment depress hear voic sign receiv ssi usual 900 00 dollar per month mani receiv back pay sever thousand also receiv hous rental assist ebt food card loung around day buy alcohol drug money includ freeload hoodrat girl multipl children illeg etc receiv freebi lo angel total mess california collaps gonna hard see mani citi erupt violenc bloodi riot occur hora ssi 900 said well 65 retir disabl get 350 sure system collaps soon 750 ss ssi collect work paid tax collaps sure lot stop get check free real disabl older keep money paid long time riot well end dem kkk parti inyofac go back mexico part problem anonym say say 4000 per month enough support famili 5 peopl problem american savvi frugal poor micro manag quit honestli mani suffer narciss addict mani american live live ignor tool work automobil home applianc comput cloth bodi famili 5 cannot live 4000 per month might terribl manag like spend heavili thing need surviv buy excess expens food luxuri item luxuri cloth accessori cigarett drug bar new automobil automobil poor ga mileag cours mani american bred system believ social accept new car new hous new cloth new applianc worship sport team futur mani american like end giant temper tantrum riot follow score militari hose tell shut fuck deal go judg peopl truth peopl need micro manag live better lazi learn care bodi tool tom singa convers cut back cant live without 120 cabl bill mo landlin internet access two smart phone almost 200 mo explain even turn ac 81 82 day lower 78 night cut bill 40 mo cant sleep set 70 degre gosh peopl thing tthey entitl tto get goc help jan honeycutt nation guard requir husband internet access pay pocket coupon constantli kid get clearanc cloth cheaper walmart worth hunt 950 month come tax everi week tax 1400 honestli need help deserv get husband surgeri remov tumor luckili cancer still work insur left us 1 000 dollar copay icu time surgeri complic heart condit uti extrem ib end go back work earli medic bill come everyday despit pay 2 insur children asthma sever bad health problem daughter extrem ib gerd top asthma work everyday would possibl get penni disabl paid despit non work bladder heart condit epilepsi watch healthi peopl walk around fibromyalgia even know one govern moocher get 800 month daughter dyslexia top peopl never work paid penni disabl daughter dyslexia would rather manipul system use daughter pay check peopl integr admit keep air 71 night due heart condit get hot heart rate goe blood pressur plummet serious doubt peopl get bill paid real need keep air low though know husband work factori educ staff sergeant guard still gross round 42 000 yr one time order get paid week later system use credit card ask famili money husband get 2 sick day yr hospit 10 day last yr desper need help husband home 3 tour duti count noth could get militari aid sunk ultim low appli food stamp get month deni get cut wazoo support peopl refus help need help door slam face drown debt due 401k loan credit card use hard time also forc refin arm interest rate get realli hope easi refin told doubt choic govern horribl flaw articl say 4 000 month tax got half tax pay monthli would fine ken sack problem exist peopl live letter spirit freei govern law thou shalt steal max power unfortun american would rather commit mass suicid see singl high paid multi gener govern neopot lose job pension us liter hundr thousand peopl us citizenship ban workforc law statut regul person situat cost govern multipl level million dollar possibl 5 us debt burden level exacerb problem nepot favorit cronyism rest anyway exampl canadian us citizenship ban kind employ due nation max power http group yahoo com group australian marri preg brunot scandinavian countri ok social high function populac smarter better cultur term work ethic norm work etc averag also live tini home drive tini car achiev prosper also much militari spend conquer week last time anyon tri uniform ethnic makeup help cultur issu social well though chang also someth said way socialist program administ difficult beat us fact 60 welfar state virtual debt problem fact trillion debt free market lack govern program ridicul leap logic buckaroo banzai um also forget fact scandinavian countri pump oil wealth north sea 30 year norway especi unbeliev rich north sea oil social real easi manag pump stuff ground 10 sell 100 monument bureaucrat wast kind get lost shuffl endless free money john good comment ring true brunot nation greater product citizen nation moral moral peopl nation believ think otherwis doom eventu fail tom singa repli move socialist countri like ge go live countri see work thefulishbastid lol appreci logic comment work soup kitchen day mayb take gary2 approach call'"
            ],
            "application/vnd.google.colaboratory.intrinsic+json": {
              "type": "string"
            }
          },
          "metadata": {},
          "execution_count": 29
        }
      ]
    },
    {
      "cell_type": "code",
      "source": [
        "# One-HOT Encoding\n",
        "encoded_corpus = [one_hot(review, vocab_size) for review in corpus]"
      ],
      "metadata": {
        "id": "3Jau4_ybA60j"
      },
      "execution_count": null,
      "outputs": []
    },
    {
      "cell_type": "code",
      "source": [
        "encoded_corpus[0]"
      ],
      "metadata": {
        "colab": {
          "base_uri": "https://localhost:8080/"
        },
        "id": "vnnx-EQYCF9x",
        "outputId": "1ed2326a-4164-4354-acdd-0e94531a5a1d"
      },
      "execution_count": null,
      "outputs": [
        {
          "output_type": "execute_result",
          "data": {
            "text/plain": [
              "[876,\n",
              " 3021,\n",
              " 1197,\n",
              " 381,\n",
              " 81,\n",
              " 1604,\n",
              " 4877,\n",
              " 2323,\n",
              " 254,\n",
              " 4450,\n",
              " 876,\n",
              " 3021,\n",
              " 1197,\n",
              " 381,\n",
              " 81,\n",
              " 1604,\n",
              " 4877,\n",
              " 2323,\n",
              " 254,\n",
              " 4450,\n",
              " 3078,\n",
              " 1485,\n",
              " 4657,\n",
              " 1363,\n",
              " 1280,\n",
              " 2352,\n",
              " 2323,\n",
              " 254,\n",
              " 81,\n",
              " 3509,\n",
              " 1194,\n",
              " 2568,\n",
              " 1847,\n",
              " 4719,\n",
              " 1505,\n",
              " 428,\n",
              " 2344,\n",
              " 3161,\n",
              " 1673,\n",
              " 2731,\n",
              " 560,\n",
              " 2519,\n",
              " 1678,\n",
              " 2919,\n",
              " 4977,\n",
              " 259,\n",
              " 2125,\n",
              " 2389,\n",
              " 675,\n",
              " 3977,\n",
              " 3913,\n",
              " 1604,\n",
              " 3153,\n",
              " 876,\n",
              " 4764,\n",
              " 1197,\n",
              " 2502,\n",
              " 2058,\n",
              " 822,\n",
              " 2866,\n",
              " 2424,\n",
              " 4977,\n",
              " 259,\n",
              " 3578,\n",
              " 1986,\n",
              " 1604,\n",
              " 2062,\n",
              " 3313,\n",
              " 4877,\n",
              " 1012,\n",
              " 675,\n",
              " 2502,\n",
              " 3429,\n",
              " 1421,\n",
              " 3656,\n",
              " 64,\n",
              " 1049,\n",
              " 3429,\n",
              " 4414,\n",
              " 4243,\n",
              " 4764,\n",
              " 2848,\n",
              " 1146,\n",
              " 1128,\n",
              " 1604,\n",
              " 1738,\n",
              " 2657,\n",
              " 4450,\n",
              " 1055,\n",
              " 55,\n",
              " 1146,\n",
              " 4656,\n",
              " 2866,\n",
              " 1604,\n",
              " 4807,\n",
              " 55,\n",
              " 4656,\n",
              " 4764,\n",
              " 4243,\n",
              " 3477,\n",
              " 876,\n",
              " 3045,\n",
              " 3874,\n",
              " 2828,\n",
              " 1146,\n",
              " 4636,\n",
              " 1316,\n",
              " 3429,\n",
              " 1386,\n",
              " 3398,\n",
              " 4980,\n",
              " 81,\n",
              " 93,\n",
              " 1851,\n",
              " 3859,\n",
              " 4666,\n",
              " 4877,\n",
              " 454,\n",
              " 2828,\n",
              " 1146,\n",
              " 2917,\n",
              " 2323,\n",
              " 254,\n",
              " 475,\n",
              " 2105,\n",
              " 2125,\n",
              " 272,\n",
              " 4450,\n",
              " 675,\n",
              " 2102,\n",
              " 3859,\n",
              " 675,\n",
              " 2193,\n",
              " 449,\n",
              " 3429,\n",
              " 3441,\n",
              " 3917,\n",
              " 2909,\n",
              " 485,\n",
              " 3741,\n",
              " 2323,\n",
              " 254,\n",
              " 243,\n",
              " 4657,\n",
              " 4656,\n",
              " 1280,\n",
              " 915,\n",
              " 2866,\n",
              " 485,\n",
              " 1604,\n",
              " 3338,\n",
              " 2485,\n",
              " 1316,\n",
              " 3429,\n",
              " 3427,\n",
              " 2304,\n",
              " 485,\n",
              " 2866,\n",
              " 1851,\n",
              " 1164,\n",
              " 3452,\n",
              " 853,\n",
              " 2550,\n",
              " 1965,\n",
              " 1091,\n",
              " 3873,\n",
              " 4255,\n",
              " 254,\n",
              " 2568,\n",
              " 55,\n",
              " 856,\n",
              " 3780,\n",
              " 3362,\n",
              " 655,\n",
              " 2909,\n",
              " 64,\n",
              " 2763,\n",
              " 1968,\n",
              " 1803,\n",
              " 1500,\n",
              " 4769,\n",
              " 1921,\n",
              " 4348,\n",
              " 2,\n",
              " 4769,\n",
              " 2550,\n",
              " 254,\n",
              " 4765,\n",
              " 675,\n",
              " 856,\n",
              " 3794,\n",
              " 1193,\n",
              " 4450,\n",
              " 1022,\n",
              " 2191,\n",
              " 4159,\n",
              " 1062,\n",
              " 2877,\n",
              " 2661,\n",
              " 4818,\n",
              " 3153,\n",
              " 3144,\n",
              " 876,\n",
              " 4764,\n",
              " 1197,\n",
              " 4136,\n",
              " 4877,\n",
              " 1421,\n",
              " 1968,\n",
              " 254,\n",
              " 265,\n",
              " 1197,\n",
              " 3134,\n",
              " 1143,\n",
              " 323,\n",
              " 4764,\n",
              " 381,\n",
              " 2866,\n",
              " 1604,\n",
              " 4877,\n",
              " 3395,\n",
              " 1738,\n",
              " 177,\n",
              " 1000,\n",
              " 4764,\n",
              " 4243,\n",
              " 3477,\n",
              " 2848,\n",
              " 1146,\n",
              " 1997,\n",
              " 1604,\n",
              " 4877,\n",
              " 55,\n",
              " 4656,\n",
              " 3873,\n",
              " 4764,\n",
              " 4243,\n",
              " 3477,\n",
              " 1997,\n",
              " 2917,\n",
              " 2828,\n",
              " 4634,\n",
              " 1480,\n",
              " 1146,\n",
              " 2323,\n",
              " 254,\n",
              " 4450,\n",
              " 587,\n",
              " 954,\n",
              " 4980,\n",
              " 81,\n",
              " 3572,\n",
              " 764,\n",
              " 675,\n",
              " 3977,\n",
              " 3974,\n",
              " 254,\n",
              " 3689,\n",
              " 1146,\n",
              " 4656,\n",
              " 1476,\n",
              " 3987,\n",
              " 1608,\n",
              " 2105,\n",
              " 4281,\n",
              " 2909,\n",
              " 524,\n",
              " 254,\n",
              " 750,\n",
              " 4719,\n",
              " 4980,\n",
              " 4764,\n",
              " 4901,\n",
              " 2866,\n",
              " 3709,\n",
              " 3153,\n",
              " 1197,\n",
              " 587,\n",
              " 4758,\n",
              " 1000,\n",
              " 856,\n",
              " 584,\n",
              " 3495,\n",
              " 3234,\n",
              " 1604,\n",
              " 1012,\n",
              " 1039,\n",
              " 3319,\n",
              " 4877,\n",
              " 254,\n",
              " 55,\n",
              " 2823,\n",
              " 3395,\n",
              " 1986,\n",
              " 1253,\n",
              " 4213,\n",
              " 1421,\n",
              " 4819,\n",
              " 1175,\n",
              " 3266,\n",
              " 1006,\n",
              " 2619,\n",
              " 381,\n",
              " 621,\n",
              " 485,\n",
              " 1006,\n",
              " 2619,\n",
              " 621,\n",
              " 1604,\n",
              " 2319,\n",
              " 4805,\n",
              " 3823,\n",
              " 3265,\n",
              " 192,\n",
              " 621,\n",
              " 849,\n",
              " 254,\n",
              " 1515,\n",
              " 2877,\n",
              " 4819,\n",
              " 1351,\n",
              " 887,\n",
              " 3078,\n",
              " 4350,\n",
              " 2502,\n",
              " 2058,\n",
              " 567,\n",
              " 4424,\n",
              " 3289,\n",
              " 381,\n",
              " 1723,\n",
              " 4807,\n",
              " 4243,\n",
              " 3477,\n",
              " 3551,\n",
              " 3922,\n",
              " 4096,\n",
              " 4281,\n",
              " 631,\n",
              " 3729,\n",
              " 3664,\n",
              " 3422,\n",
              " 2866,\n",
              " 4352,\n",
              " 2058,\n",
              " 254,\n",
              " 4992,\n",
              " 2771,\n",
              " 3569,\n",
              " 55,\n",
              " 2284,\n",
              " 3710,\n",
              " 4648,\n",
              " 2500,\n",
              " 925,\n",
              " 2406,\n",
              " 1309,\n",
              " 3822,\n",
              " 724,\n",
              " 2827,\n",
              " 3076,\n",
              " 1864,\n",
              " 3687,\n",
              " 2031,\n",
              " 3045,\n",
              " 2745,\n",
              " 1309,\n",
              " 1784,\n",
              " 4455,\n",
              " 55,\n",
              " 876,\n",
              " 1263,\n",
              " 3827,\n",
              " 417,\n",
              " 2551,\n",
              " 254,\n",
              " 1048,\n",
              " 3593,\n",
              " 1166,\n",
              " 2697,\n",
              " 1986,\n",
              " 1645,\n",
              " 3427,\n",
              " 3634,\n",
              " 2990,\n",
              " 876,\n",
              " 3834,\n",
              " 55,\n",
              " 3912,\n",
              " 822,\n",
              " 2424,\n",
              " 4977,\n",
              " 259,\n",
              " 2125,\n",
              " 3078,\n",
              " 1485,\n",
              " 3078,\n",
              " 1363,\n",
              " 4096,\n",
              " 4913,\n",
              " 2522,\n",
              " 3444,\n",
              " 24,\n",
              " 276,\n",
              " 2229,\n",
              " 4118,\n",
              " 4982,\n",
              " 641,\n",
              " 1986,\n",
              " 3477,\n",
              " 1457,\n",
              " 764,\n",
              " 4447,\n",
              " 1861,\n",
              " 1986,\n",
              " 1457,\n",
              " 764,\n",
              " 4977,\n",
              " 3558,\n",
              " 3310,\n",
              " 2385,\n",
              " 4522,\n",
              " 949,\n",
              " 4461,\n",
              " 4533,\n",
              " 2028,\n",
              " 2963,\n",
              " 4727,\n",
              " 3716,\n",
              " 3570,\n",
              " 3914,\n",
              " 1500,\n",
              " 3788,\n",
              " 1421,\n",
              " 2866,\n",
              " 3495,\n",
              " 3234,\n",
              " 2385,\n",
              " 3021,\n",
              " 3065,\n",
              " 1049,\n",
              " 1000,\n",
              " 4296,\n",
              " 4227,\n",
              " 2444,\n",
              " 427,\n",
              " 834,\n",
              " 3078,\n",
              " 165,\n",
              " 4236,\n",
              " 4227]"
            ]
          },
          "metadata": {},
          "execution_count": 31
        }
      ]
    },
    {
      "cell_type": "markdown",
      "source": [
        "### Applying Pad Sequences"
      ],
      "metadata": {
        "id": "v4KMD4O3Cw6i"
      }
    },
    {
      "cell_type": "code",
      "source": [
        "sent_length = 20\n",
        "padded_docs  = pad_sequences(sequences=encoded_corpus, maxlen=sent_length, padding='pre')"
      ],
      "metadata": {
        "id": "sgkC-AEhCau_"
      },
      "execution_count": null,
      "outputs": []
    },
    {
      "cell_type": "code",
      "source": [
        "padded_docs"
      ],
      "metadata": {
        "colab": {
          "base_uri": "https://localhost:8080/"
        },
        "id": "2lbgkOHsDpIy",
        "outputId": "52763437-d145-46f6-9638-db09804a83ad"
      },
      "execution_count": null,
      "outputs": [
        {
          "output_type": "execute_result",
          "data": {
            "text/plain": [
              "array([[1500, 3788, 1421, ...,  165, 4236, 4227],\n",
              "       [1783, 4720, 1936, ..., 3344, 4164, 1083],\n",
              "       [ 313, 4805, 2017, ..., 3428,  686,  442],\n",
              "       ...,\n",
              "       [ 771, 4232, 1249, ..., 1451,  821, 1371],\n",
              "       [2542,  873, 4634, ...,  381, 2029, 3799],\n",
              "       [3407, 3134, 1121, ..., 1248, 1362, 2472]], dtype=int32)"
            ]
          },
          "metadata": {},
          "execution_count": 33
        }
      ]
    },
    {
      "cell_type": "code",
      "source": [
        "len(padded_docs)"
      ],
      "metadata": {
        "colab": {
          "base_uri": "https://localhost:8080/"
        },
        "id": "MqqidZ_LD3zK",
        "outputId": "3f556077-58d3-4f00-b276-992bbf12a610"
      },
      "execution_count": null,
      "outputs": [
        {
          "output_type": "execute_result",
          "data": {
            "text/plain": [
              "18285"
            ]
          },
          "metadata": {},
          "execution_count": 34
        }
      ]
    },
    {
      "cell_type": "code",
      "source": [
        "X_final = np.array(padded_docs)\n",
        "y_final = np.array(y)"
      ],
      "metadata": {
        "id": "BJfQOxrpFaqB"
      },
      "execution_count": null,
      "outputs": []
    },
    {
      "cell_type": "code",
      "source": [
        "X_final.shape, y_final.shape"
      ],
      "metadata": {
        "colab": {
          "base_uri": "https://localhost:8080/"
        },
        "id": "_HX680FqFx_E",
        "outputId": "a2a32989-daa0-4d98-d136-3c0b393ed541"
      },
      "execution_count": null,
      "outputs": [
        {
          "output_type": "execute_result",
          "data": {
            "text/plain": [
              "((18285, 20), (18285,))"
            ]
          },
          "metadata": {},
          "execution_count": 36
        }
      ]
    },
    {
      "cell_type": "code",
      "source": [
        "from sklearn.model_selection import train_test_split\n",
        "X_train, X_test, y_train, y_test = train_test_split(X_final, y_final, test_size=0.2, random_state=42)"
      ],
      "metadata": {
        "id": "lc-3UzAZF08T"
      },
      "execution_count": null,
      "outputs": []
    },
    {
      "cell_type": "code",
      "source": [
        "# Converting (N,) to (N, 1)\n",
        "import numpy as np\n",
        "y_train = np.reshape(y_train, (-1, 1))\n",
        "y_test = np.reshape(y_test, (-1, 1))"
      ],
      "metadata": {
        "id": "38AFepUbfp7e"
      },
      "execution_count": null,
      "outputs": []
    },
    {
      "cell_type": "code",
      "source": [
        "print(X_train.shape)\n",
        "print(y_train.shape)\n",
        "print(X_test.shape)\n",
        "print(y_test.shape)\n"
      ],
      "metadata": {
        "colab": {
          "base_uri": "https://localhost:8080/"
        },
        "id": "ImGjSCDdfFlC",
        "outputId": "5322ea9c-0e5f-4dc9-92f5-fb9c7493b4b8"
      },
      "execution_count": null,
      "outputs": [
        {
          "output_type": "stream",
          "name": "stdout",
          "text": [
            "(14628, 20)\n",
            "(14628, 1)\n",
            "(3657, 20)\n",
            "(3657, 1)\n"
          ]
        }
      ]
    },
    {
      "cell_type": "markdown",
      "source": [
        "## Creating the Model"
      ],
      "metadata": {
        "id": "TQQHPojlEFdI"
      }
    },
    {
      "cell_type": "code",
      "source": [
        "embedding_output_features = 40\n",
        "model = Sequential()\n",
        "model.add(Embedding(vocab_size, embedding_output_features, input_length=sent_length))\n",
        "model.add(Dropout(0.3))\n",
        "model.add(Bidirectional(LSTM(100)))\n",
        "model.add(Dropout(0.3))\n",
        "model.add(Dense(1, activation='sigmoid'))"
      ],
      "metadata": {
        "id": "ryTe8_PsEAb2"
      },
      "execution_count": null,
      "outputs": []
    },
    {
      "cell_type": "code",
      "source": [
        "model.summary()"
      ],
      "metadata": {
        "colab": {
          "base_uri": "https://localhost:8080/"
        },
        "id": "0rhf5b_cE7lH",
        "outputId": "325dbc98-76f1-4e84-fef5-eb7bfef2bd63"
      },
      "execution_count": null,
      "outputs": [
        {
          "output_type": "stream",
          "name": "stdout",
          "text": [
            "Model: \"sequential\"\n",
            "_________________________________________________________________\n",
            " Layer (type)                Output Shape              Param #   \n",
            "=================================================================\n",
            " embedding (Embedding)       (None, 20, 40)            200000    \n",
            "                                                                 \n",
            " dropout (Dropout)           (None, 20, 40)            0         \n",
            "                                                                 \n",
            " bidirectional (Bidirectiona  (None, 200)              112800    \n",
            " l)                                                              \n",
            "                                                                 \n",
            " dropout_1 (Dropout)         (None, 200)               0         \n",
            "                                                                 \n",
            " dense (Dense)               (None, 1)                 201       \n",
            "                                                                 \n",
            "=================================================================\n",
            "Total params: 313,001\n",
            "Trainable params: 313,001\n",
            "Non-trainable params: 0\n",
            "_________________________________________________________________\n"
          ]
        }
      ]
    },
    {
      "cell_type": "code",
      "source": [
        "model.compile(loss='binary_crossentropy', optimizer='adam', metrics=['accuracy'])"
      ],
      "metadata": {
        "id": "XSpz1WnhEsZk"
      },
      "execution_count": null,
      "outputs": []
    },
    {
      "cell_type": "code",
      "source": [
        "history = model.fit(X_train, y_train, epochs=10, batch_size=64, validation_data=(X_test, y_test))"
      ],
      "metadata": {
        "colab": {
          "base_uri": "https://localhost:8080/"
        },
        "id": "AorLHPop8yF6",
        "outputId": "f0ca6b49-ed24-4e75-929f-b4095b9c0d44"
      },
      "execution_count": null,
      "outputs": [
        {
          "output_type": "stream",
          "name": "stdout",
          "text": [
            "Epoch 1/10\n",
            "229/229 [==============================] - 27s 94ms/step - loss: 0.4051 - accuracy: 0.7923 - val_loss: 0.3060 - val_accuracy: 0.8551\n",
            "Epoch 2/10\n",
            "229/229 [==============================] - 5s 23ms/step - loss: 0.2515 - accuracy: 0.8930 - val_loss: 0.3206 - val_accuracy: 0.8564\n",
            "Epoch 3/10\n",
            "229/229 [==============================] - 5s 23ms/step - loss: 0.1976 - accuracy: 0.9199 - val_loss: 0.3519 - val_accuracy: 0.8488\n",
            "Epoch 4/10\n",
            "229/229 [==============================] - 4s 16ms/step - loss: 0.1589 - accuracy: 0.9376 - val_loss: 0.3730 - val_accuracy: 0.8510\n",
            "Epoch 5/10\n",
            "229/229 [==============================] - 4s 18ms/step - loss: 0.1257 - accuracy: 0.9508 - val_loss: 0.4207 - val_accuracy: 0.8471\n",
            "Epoch 6/10\n",
            "229/229 [==============================] - 4s 18ms/step - loss: 0.0987 - accuracy: 0.9632 - val_loss: 0.5354 - val_accuracy: 0.8348\n",
            "Epoch 7/10\n",
            "229/229 [==============================] - 3s 12ms/step - loss: 0.0858 - accuracy: 0.9696 - val_loss: 0.5813 - val_accuracy: 0.8422\n",
            "Epoch 8/10\n",
            "229/229 [==============================] - 3s 11ms/step - loss: 0.0706 - accuracy: 0.9727 - val_loss: 0.6347 - val_accuracy: 0.8458\n",
            "Epoch 9/10\n",
            "229/229 [==============================] - 3s 14ms/step - loss: 0.0576 - accuracy: 0.9793 - val_loss: 0.6514 - val_accuracy: 0.8403\n",
            "Epoch 10/10\n",
            "229/229 [==============================] - 3s 15ms/step - loss: 0.0548 - accuracy: 0.9792 - val_loss: 0.7934 - val_accuracy: 0.8332\n"
          ]
        }
      ]
    },
    {
      "cell_type": "markdown",
      "source": [
        "## Ploting Loss and accuracy during training"
      ],
      "metadata": {
        "id": "NwRIVFwlH4nq"
      }
    },
    {
      "cell_type": "code",
      "source": [
        "plt.title('Plotting Loss over each epoch during Training')\n",
        "plt.plot(history.history['loss'], label='Training Loss')\n",
        "plt.plot(history.history['val_loss'], label='Training Val Loss')\n",
        "plt.legend()\n",
        "plt.show()"
      ],
      "metadata": {
        "colab": {
          "base_uri": "https://localhost:8080/",
          "height": 452
        },
        "id": "aulZTQrzGi8_",
        "outputId": "9b3db322-2522-401d-ba0a-3e227fd48add"
      },
      "execution_count": null,
      "outputs": [
        {
          "output_type": "display_data",
          "data": {
            "text/plain": [
              "<Figure size 640x480 with 1 Axes>"
            ],
            "image/png": "[encoded data removed]"
          },
          "metadata": {}
        }
      ]
    },
    {
      "cell_type": "code",
      "source": [
        "plt.title('Plotting Loss over each epoch during Training')\n",
        "plt.plot(history.history['accuracy'], label='Training Loss')\n",
        "plt.plot(history.history['val_accuracy'], label='Training Val Loss')\n",
        "plt.legend()\n",
        "plt.show()"
      ],
      "metadata": {
        "colab": {
          "base_uri": "https://localhost:8080/",
          "height": 452
        },
        "id": "lTy9aSsMIbut",
        "outputId": "5a7a2568-fc07-4504-9914-6afd1b941071"
      },
      "execution_count": null,
      "outputs": [
        {
          "output_type": "display_data",
          "data": {
            "text/plain": [
              "<Figure size 640x480 with 1 Axes>"
            ],
            "image/png": "[encoded data removed]"
          },
          "metadata": {}
        }
      ]
    },
    {
      "cell_type": "markdown",
      "source": [
        "## Evaluating Performence over the testing data"
      ],
      "metadata": {
        "id": "qFxY_t1tI3mB"
      }
    },
    {
      "cell_type": "code",
      "source": [
        "y_pred_prob = model.predict(X_test)\n",
        "y_pred = (y_pred_prob > 0.5).astype(int)"
      ],
      "metadata": {
        "colab": {
          "base_uri": "https://localhost:8080/"
        },
        "id": "H8SLWnS8JSoB",
        "outputId": "284b01e0-2ae3-40eb-8ac2-f2bee38bedec"
      },
      "execution_count": null,
      "outputs": [
        {
          "output_type": "stream",
          "name": "stdout",
          "text": [
            "115/115 [==============================] - 1s 3ms/step\n"
          ]
        }
      ]
    },
    {
      "cell_type": "code",
      "source": [
        "y_pred"
      ],
      "metadata": {
        "colab": {
          "base_uri": "https://localhost:8080/"
        },
        "id": "k3qyCaSOQBv7",
        "outputId": "966f8747-4a55-4b68-e5e6-cfbebaeabe56"
      },
      "execution_count": null,
      "outputs": [
        {
          "output_type": "execute_result",
          "data": {
            "text/plain": [
              "array([[0],\n",
              "       [1],\n",
              "       [0],\n",
              "       ...,\n",
              "       [1],\n",
              "       [0],\n",
              "       [1]])"
            ]
          },
          "metadata": {},
          "execution_count": 47
        }
      ]
    },
    {
      "cell_type": "code",
      "source": [
        "from sklearn.metrics import confusion_matrix, accuracy_score\n",
        "confusion_matrix(y_test, y_pred)"
      ],
      "metadata": {
        "colab": {
          "base_uri": "https://localhost:8080/"
        },
        "id": "0ADwF6maPrFO",
        "outputId": "61eabc54-31a9-4a40-f472-bf0742b3f94f"
      },
      "execution_count": null,
      "outputs": [
        {
          "output_type": "execute_result",
          "data": {
            "text/plain": [
              "array([[1722,  360],\n",
              "       [ 250, 1325]])"
            ]
          },
          "metadata": {},
          "execution_count": 48
        }
      ]
    },
    {
      "cell_type": "code",
      "source": [
        "accuracy_score(y_test, y_pred)"
      ],
      "metadata": {
        "colab": {
          "base_uri": "https://localhost:8080/"
        },
        "id": "pXAegxqiQbVJ",
        "outputId": "fd200d3d-1c6e-4919-afe8-862b245d0971"
      },
      "execution_count": null,
      "outputs": [
        {
          "output_type": "execute_result",
          "data": {
            "text/plain": [
              "0.8331966092425486"
            ]
          },
          "metadata": {},
          "execution_count": 49
        }
      ]
    },
    {
      "cell_type": "code",
      "source": [
        "from sklearn.metrics import classification_report\n",
        "print(classification_report(y_test, y_pred))"
      ],
      "metadata": {
        "colab": {
          "base_uri": "https://localhost:8080/"
        },
        "id": "VqIhnsxXBkYb",
        "outputId": "0d79ebf3-fe87-46c3-af8e-3189ec104030"
      },
      "execution_count": null,
      "outputs": [
        {
          "output_type": "stream",
          "name": "stdout",
          "text": [
            "              precision    recall  f1-score   support\n",
            "\n",
            "           0       0.87      0.83      0.85      2082\n",
            "           1       0.79      0.84      0.81      1575\n",
            "\n",
            "    accuracy                           0.83      3657\n",
            "   macro avg       0.83      0.83      0.83      3657\n",
            "weighted avg       0.84      0.83      0.83      3657\n",
            "\n"
          ]
        }
      ]
    },
    {
      "cell_type": "code",
      "source": [
        "model.save('fakeNews_BidirectionalLSTM_model.h5')"
      ],
      "metadata": {
        "id": "Ht27vXMCYhHS"
      },
      "execution_count": null,
      "outputs": []
    },
    {
      "cell_type": "markdown",
      "source": [
        "## Testing with Test.csv"
      ],
      "metadata": {
        "id": "iKrGrXC1kuwZ"
      }
    },
    {
      "cell_type": "code",
      "source": [
        "test_df = pd.read_csv('test.csv')\n",
        "test_df.head()"
      ],
      "metadata": {
        "id": "uxoHDQ1NYl2w",
        "colab": {
          "base_uri": "https://localhost:8080/",
          "height": 302
        },
        "outputId": "b7641cac-9095-4e70-80ec-d8ce703bed3b"
      },
      "execution_count": null,
      "outputs": [
        {
          "output_type": "execute_result",
          "data": {
            "text/plain": [
              "      id                                              title  \\\n",
              "0  20800  Specter of Trump Loosens Tongues, if Not Purse...   \n",
              "1  20801  Russian warships ready to strike terrorists ne...   \n",
              "2  20802  #NoDAPL: Native American Leaders Vow to Stay A...   \n",
              "3  20803  Tim Tebow Will Attempt Another Comeback, This ...   \n",
              "4  20804                    Keiser Report: Meme Wars (E995)   \n",
              "\n",
              "                    author                                               text  \n",
              "0         David Streitfeld  PALO ALTO, Calif.  —   After years of scorning...  \n",
              "1                      NaN  Russian warships ready to strike terrorists ne...  \n",
              "2            Common Dreams  Videos #NoDAPL: Native American Leaders Vow to...  \n",
              "3            Daniel Victor  If at first you don’t succeed, try a different...  \n",
              "4  Truth Broadcast Network  42 mins ago 1 Views 0 Comments 0 Likes 'For th...  "
            ],
            "text/html": [
              "\n",
              "  <div id=\"df-2d33317b-8bcb-4599-a4ca-8382d5921981\">\n",
              "    <div class=\"colab-df-container\">\n",
              "      <div>\n",
              "<style scoped>\n",
              "    .dataframe tbody tr th:only-of-type {\n",
              "        vertical-align: middle;\n",
              "    }\n",
              "\n",
              "    .dataframe tbody tr th {\n",
              "        vertical-align: top;\n",
              "    }\n",
              "\n",
              "    .dataframe thead th {\n",
              "        text-align: right;\n",
              "    }\n",
              "</style>\n",
              "<table border=\"1\" class=\"dataframe\">\n",
              "  <thead>\n",
              "    <tr style=\"text-align: right;\">\n",
              "      <th></th>\n",
              "      <th>id</th>\n",
              "      <th>title</th>\n",
              "      <th>author</th>\n",
              "      <th>text</th>\n",
              "    </tr>\n",
              "  </thead>\n",
              "  <tbody>\n",
              "    <tr>\n",
              "      <th>0</th>\n",
              "      <td>20800</td>\n",
              "      <td>Specter of Trump Loosens Tongues, if Not Purse...</td>\n",
              "      <td>David Streitfeld</td>\n",
              "      <td>PALO ALTO, Calif.  —   After years of scorning...</td>\n",
              "    </tr>\n",
              "    <tr>\n",
              "      <th>1</th>\n",
              "      <td>20801</td>\n",
              "      <td>Russian warships ready to strike terrorists ne...</td>\n",
              "      <td>NaN</td>\n",
              "      <td>Russian warships ready to strike terrorists ne...</td>\n",
              "    </tr>\n",
              "    <tr>\n",
              "      <th>2</th>\n",
              "      <td>20802</td>\n",
              "      <td>#NoDAPL: Native American Leaders Vow to Stay A...</td>\n",
              "      <td>Common Dreams</td>\n",
              "      <td>Videos #NoDAPL: Native American Leaders Vow to...</td>\n",
              "    </tr>\n",
              "    <tr>\n",
              "      <th>3</th>\n",
              "      <td>20803</td>\n",
              "      <td>Tim Tebow Will Attempt Another Comeback, This ...</td>\n",
              "      <td>Daniel Victor</td>\n",
              "      <td>If at first you don’t succeed, try a different...</td>\n",
              "    </tr>\n",
              "    <tr>\n",
              "      <th>4</th>\n",
              "      <td>20804</td>\n",
              "      <td>Keiser Report: Meme Wars (E995)</td>\n",
              "      <td>Truth Broadcast Network</td>\n",
              "      <td>42 mins ago 1 Views 0 Comments 0 Likes 'For th...</td>\n",
              "    </tr>\n",
              "  </tbody>\n",
              "</table>\n",
              "</div>\n",
              "      <button class=\"colab-df-convert\" onclick=\"convertToInteractive('df-2d33317b-8bcb-4599-a4ca-8382d5921981')\"\n",
              "              title=\"Convert this dataframe to an interactive table.\"\n",
              "              style=\"display:none;\">\n",
              "        \n",
              "  <svg xmlns=\"http://www.w3.org/2000/svg\" height=\"24px\"viewBox=\"0 0 24 24\"\n",
              "       width=\"24px\">\n",
              "    <path d=\"M0 0h24v24H0V0z\" fill=\"none\"/>\n",
              "    <path d=\"M18.56 5.44l.94 2.06.94-2.06 2.06-.94-2.06-.94-.94-2.06-.94 2.06-2.06.94zm-11 1L8.5 8.5l.94-2.06 2.06-.94-2.06-.94L8.5 2.5l-.94 2.06-2.06.94zm10 10l.94 2.06.94-2.06 2.06-.94-2.06-.94-.94-2.06-.94 2.06-2.06.94z\"/><path d=\"M17.41 7.96l-1.37-1.37c-.4-.4-.92-.59-1.43-.59-.52 0-1.04.2-1.43.59L10.3 9.45l-7.72 7.72c-.78.78-.78 2.05 0 2.83L4 21.41c.39.39.9.59 1.41.59.51 0 1.02-.2 1.41-.59l7.78-7.78 2.81-2.81c.8-.78.8-2.07 0-2.86zM5.41 20L4 18.59l7.72-7.72 1.47 1.35L5.41 20z\"/>\n",
              "  </svg>\n",
              "      </button>\n",
              "      \n",
              "  <style>\n",
              "    .colab-df-container {\n",
              "      display:flex;\n",
              "      flex-wrap:wrap;\n",
              "      gap: 12px;\n",
              "    }\n",
              "\n",
              "    .colab-df-convert {\n",
              "      background-color: #E8F0FE;\n",
              "      border: none;\n",
              "      border-radius: 50%;\n",
              "      cursor: pointer;\n",
              "      display: none;\n",
              "      fill: #1967D2;\n",
              "      height: 32px;\n",
              "      padding: 0 0 0 0;\n",
              "      width: 32px;\n",
              "    }\n",
              "\n",
              "    .colab-df-convert:hover {\n",
              "      background-color: #E2EBFA;\n",
              "      box-shadow: 0px 1px 2px rgba(60, 64, 67, 0.3), 0px 1px 3px 1px rgba(60, 64, 67, 0.15);\n",
              "      fill: #174EA6;\n",
              "    }\n",
              "\n",
              "    [theme=dark] .colab-df-convert {\n",
              "      background-color: #3B4455;\n",
              "      fill: #D2E3FC;\n",
              "    }\n",
              "\n",
              "    [theme=dark] .colab-df-convert:hover {\n",
              "      background-color: #434B5C;\n",
              "      box-shadow: 0px 1px 3px 1px rgba(0, 0, 0, 0.15);\n",
              "      filter: drop-shadow(0px 1px 2px rgba(0, 0, 0, 0.3));\n",
              "      fill: #FFFFFF;\n",
              "    }\n",
              "  </style>\n",
              "\n",
              "      <script>\n",
              "        const buttonEl =\n",
              "          document.querySelector('#df-2d33317b-8bcb-4599-a4ca-8382d5921981 button.colab-df-convert');\n",
              "        buttonEl.style.display =\n",
              "          google.colab.kernel.accessAllowed ? 'block' : 'none';\n",
              "\n",
              "        async function convertToInteractive(key) {\n",
              "          const element = document.querySelector('#df-2d33317b-8bcb-4599-a4ca-8382d5921981');\n",
              "          const dataTable =\n",
              "            await google.colab.kernel.invokeFunction('convertToInteractive',\n",
              "                                                     [key], {});\n",
              "          if (!dataTable) return;\n",
              "\n",
              "          const docLinkHtml = 'Like what you see? Visit the ' +\n",
              "            '<a target=\"_blank\" href=https://colab.research.google.com/notebooks/data_table.ipynb>data table notebook</a>'\n",
              "            + ' to learn more about interactive tables.';\n",
              "          element.innerHTML = '';\n",
              "          dataTable['output_type'] = 'display_data';\n",
              "          await google.colab.output.renderOutput(dataTable, element);\n",
              "          const docLink = document.createElement('div');\n",
              "          docLink.innerHTML = docLinkHtml;\n",
              "          element.appendChild(docLink);\n",
              "        }\n",
              "      </script>\n",
              "    </div>\n",
              "  </div>\n",
              "  "
            ]
          },
          "metadata": {},
          "execution_count": 51
        }
      ]
    },
    {
      "cell_type": "code",
      "source": [
        "# Checking for NaN values\n",
        "test_df.isna().sum() # There are NaN value"
      ],
      "metadata": {
        "colab": {
          "base_uri": "https://localhost:8080/"
        },
        "id": "uvbqxQCtk7D_",
        "outputId": "e8a7f53c-d96b-400e-d45d-fec420c3634f"
      },
      "execution_count": null,
      "outputs": [
        {
          "output_type": "execute_result",
          "data": {
            "text/plain": [
              "id          0\n",
              "title     122\n",
              "author    503\n",
              "text        7\n",
              "dtype: int64"
            ]
          },
          "metadata": {},
          "execution_count": 52
        }
      ]
    },
    {
      "cell_type": "code",
      "source": [
        "test_df.duplicated().sum()"
      ],
      "metadata": {
        "colab": {
          "base_uri": "https://localhost:8080/"
        },
        "id": "adgufeS5k8vX",
        "outputId": "256f3e1f-7eed-46a3-cee7-f3668e217a32"
      },
      "execution_count": null,
      "outputs": [
        {
          "output_type": "execute_result",
          "data": {
            "text/plain": [
              "0"
            ]
          },
          "metadata": {},
          "execution_count": 53
        }
      ]
    },
    {
      "cell_type": "code",
      "source": [
        "test_df.columns"
      ],
      "metadata": {
        "colab": {
          "base_uri": "https://localhost:8080/"
        },
        "id": "jM76X8lTlth3",
        "outputId": "f585570c-1c6e-4a51-c165-4276d715ec79"
      },
      "execution_count": null,
      "outputs": [
        {
          "output_type": "execute_result",
          "data": {
            "text/plain": [
              "Index(['id', 'title', 'author', 'text'], dtype='object')"
            ]
          },
          "metadata": {},
          "execution_count": 54
        }
      ]
    },
    {
      "cell_type": "code",
      "source": [
        "test_df = test_df.dropna()"
      ],
      "metadata": {
        "id": "_pFsOI0Lk_tt"
      },
      "execution_count": null,
      "outputs": []
    },
    {
      "cell_type": "code",
      "source": [
        "testX = test_df"
      ],
      "metadata": {
        "id": "9u14njbglJwL"
      },
      "execution_count": null,
      "outputs": []
    },
    {
      "cell_type": "code",
      "source": [
        "testX.head()"
      ],
      "metadata": {
        "colab": {
          "base_uri": "https://localhost:8080/",
          "height": 320
        },
        "id": "E5ntpVq1lTBk",
        "outputId": "62bcb46b-0500-4066-d465-9d72e91f7da6"
      },
      "execution_count": null,
      "outputs": [
        {
          "output_type": "execute_result",
          "data": {
            "text/plain": [
              "      id                                              title  \\\n",
              "0  20800  Specter of Trump Loosens Tongues, if Not Purse...   \n",
              "2  20802  #NoDAPL: Native American Leaders Vow to Stay A...   \n",
              "3  20803  Tim Tebow Will Attempt Another Comeback, This ...   \n",
              "4  20804                    Keiser Report: Meme Wars (E995)   \n",
              "6  20806  Pelosi Calls for FBI Investigation to Find Out...   \n",
              "\n",
              "                    author                                               text  \n",
              "0         David Streitfeld  PALO ALTO, Calif.  —   After years of scorning...  \n",
              "2            Common Dreams  Videos #NoDAPL: Native American Leaders Vow to...  \n",
              "3            Daniel Victor  If at first you don’t succeed, try a different...  \n",
              "4  Truth Broadcast Network  42 mins ago 1 Views 0 Comments 0 Likes 'For th...  \n",
              "6                  Pam Key  Sunday on NBC’s “Meet the Press,” House Minori...  "
            ],
            "text/html": [
              "\n",
              "  <div id=\"df-da3fca4d-98cf-4987-aab8-c2e8e530b977\">\n",
              "    <div class=\"colab-df-container\">\n",
              "      <div>\n",
              "<style scoped>\n",
              "    .dataframe tbody tr th:only-of-type {\n",
              "        vertical-align: middle;\n",
              "    }\n",
              "\n",
              "    .dataframe tbody tr th {\n",
              "        vertical-align: top;\n",
              "    }\n",
              "\n",
              "    .dataframe thead th {\n",
              "        text-align: right;\n",
              "    }\n",
              "</style>\n",
              "<table border=\"1\" class=\"dataframe\">\n",
              "  <thead>\n",
              "    <tr style=\"text-align: right;\">\n",
              "      <th></th>\n",
              "      <th>id</th>\n",
              "      <th>title</th>\n",
              "      <th>author</th>\n",
              "      <th>text</th>\n",
              "    </tr>\n",
              "  </thead>\n",
              "  <tbody>\n",
              "    <tr>\n",
              "      <th>0</th>\n",
              "      <td>20800</td>\n",
              "      <td>Specter of Trump Loosens Tongues, if Not Purse...</td>\n",
              "      <td>David Streitfeld</td>\n",
              "      <td>PALO ALTO, Calif.  —   After years of scorning...</td>\n",
              "    </tr>\n",
              "    <tr>\n",
              "      <th>2</th>\n",
              "      <td>20802</td>\n",
              "      <td>#NoDAPL: Native American Leaders Vow to Stay A...</td>\n",
              "      <td>Common Dreams</td>\n",
              "      <td>Videos #NoDAPL: Native American Leaders Vow to...</td>\n",
              "    </tr>\n",
              "    <tr>\n",
              "      <th>3</th>\n",
              "      <td>20803</td>\n",
              "      <td>Tim Tebow Will Attempt Another Comeback, This ...</td>\n",
              "      <td>Daniel Victor</td>\n",
              "      <td>If at first you don’t succeed, try a different...</td>\n",
              "    </tr>\n",
              "    <tr>\n",
              "      <th>4</th>\n",
              "      <td>20804</td>\n",
              "      <td>Keiser Report: Meme Wars (E995)</td>\n",
              "      <td>Truth Broadcast Network</td>\n",
              "      <td>42 mins ago 1 Views 0 Comments 0 Likes 'For th...</td>\n",
              "    </tr>\n",
              "    <tr>\n",
              "      <th>6</th>\n",
              "      <td>20806</td>\n",
              "      <td>Pelosi Calls for FBI Investigation to Find Out...</td>\n",
              "      <td>Pam Key</td>\n",
              "      <td>Sunday on NBC’s “Meet the Press,” House Minori...</td>\n",
              "    </tr>\n",
              "  </tbody>\n",
              "</table>\n",
              "</div>\n",
              "      <button class=\"colab-df-convert\" onclick=\"convertToInteractive('df-da3fca4d-98cf-4987-aab8-c2e8e530b977')\"\n",
              "              title=\"Convert this dataframe to an interactive table.\"\n",
              "              style=\"display:none;\">\n",
              "        \n",
              "  <svg xmlns=\"http://www.w3.org/2000/svg\" height=\"24px\"viewBox=\"0 0 24 24\"\n",
              "       width=\"24px\">\n",
              "    <path d=\"M0 0h24v24H0V0z\" fill=\"none\"/>\n",
              "    <path d=\"M18.56 5.44l.94 2.06.94-2.06 2.06-.94-2.06-.94-.94-2.06-.94 2.06-2.06.94zm-11 1L8.5 8.5l.94-2.06 2.06-.94-2.06-.94L8.5 2.5l-.94 2.06-2.06.94zm10 10l.94 2.06.94-2.06 2.06-.94-2.06-.94-.94-2.06-.94 2.06-2.06.94z\"/><path d=\"M17.41 7.96l-1.37-1.37c-.4-.4-.92-.59-1.43-.59-.52 0-1.04.2-1.43.59L10.3 9.45l-7.72 7.72c-.78.78-.78 2.05 0 2.83L4 21.41c.39.39.9.59 1.41.59.51 0 1.02-.2 1.41-.59l7.78-7.78 2.81-2.81c.8-.78.8-2.07 0-2.86zM5.41 20L4 18.59l7.72-7.72 1.47 1.35L5.41 20z\"/>\n",
              "  </svg>\n",
              "      </button>\n",
              "      \n",
              "  <style>\n",
              "    .colab-df-container {\n",
              "      display:flex;\n",
              "      flex-wrap:wrap;\n",
              "      gap: 12px;\n",
              "    }\n",
              "\n",
              "    .colab-df-convert {\n",
              "      background-color: #E8F0FE;\n",
              "      border: none;\n",
              "      border-radius: 50%;\n",
              "      cursor: pointer;\n",
              "      display: none;\n",
              "      fill: #1967D2;\n",
              "      height: 32px;\n",
              "      padding: 0 0 0 0;\n",
              "      width: 32px;\n",
              "    }\n",
              "\n",
              "    .colab-df-convert:hover {\n",
              "      background-color: #E2EBFA;\n",
              "      box-shadow: 0px 1px 2px rgba(60, 64, 67, 0.3), 0px 1px 3px 1px rgba(60, 64, 67, 0.15);\n",
              "      fill: #174EA6;\n",
              "    }\n",
              "\n",
              "    [theme=dark] .colab-df-convert {\n",
              "      background-color: #3B4455;\n",
              "      fill: #D2E3FC;\n",
              "    }\n",
              "\n",
              "    [theme=dark] .colab-df-convert:hover {\n",
              "      background-color: #434B5C;\n",
              "      box-shadow: 0px 1px 3px 1px rgba(0, 0, 0, 0.15);\n",
              "      filter: drop-shadow(0px 1px 2px rgba(0, 0, 0, 0.3));\n",
              "      fill: #FFFFFF;\n",
              "    }\n",
              "  </style>\n",
              "\n",
              "      <script>\n",
              "        const buttonEl =\n",
              "          document.querySelector('#df-da3fca4d-98cf-4987-aab8-c2e8e530b977 button.colab-df-convert');\n",
              "        buttonEl.style.display =\n",
              "          google.colab.kernel.accessAllowed ? 'block' : 'none';\n",
              "\n",
              "        async function convertToInteractive(key) {\n",
              "          const element = document.querySelector('#df-da3fca4d-98cf-4987-aab8-c2e8e530b977');\n",
              "          const dataTable =\n",
              "            await google.colab.kernel.invokeFunction('convertToInteractive',\n",
              "                                                     [key], {});\n",
              "          if (!dataTable) return;\n",
              "\n",
              "          const docLinkHtml = 'Like what you see? Visit the ' +\n",
              "            '<a target=\"_blank\" href=https://colab.research.google.com/notebooks/data_table.ipynb>data table notebook</a>'\n",
              "            + ' to learn more about interactive tables.';\n",
              "          element.innerHTML = '';\n",
              "          dataTable['output_type'] = 'display_data';\n",
              "          await google.colab.output.renderOutput(dataTable, element);\n",
              "          const docLink = document.createElement('div');\n",
              "          docLink.innerHTML = docLinkHtml;\n",
              "          element.appendChild(docLink);\n",
              "        }\n",
              "      </script>\n",
              "    </div>\n",
              "  </div>\n",
              "  "
            ]
          },
          "metadata": {},
          "execution_count": 57
        }
      ]
    },
    {
      "cell_type": "code",
      "source": [
        "message = testX.copy()\n",
        "message.reset_index(inplace=True)"
      ],
      "metadata": {
        "id": "vV_v7UyXmIlk"
      },
      "execution_count": null,
      "outputs": []
    },
    {
      "cell_type": "code",
      "source": [
        "## Data Preprocessing\n",
        "from nltk.stem.porter import PorterStemmer\n",
        "ps = PorterStemmer()\n",
        "testcorpus = []\n",
        "stop_words = set(stopwords.words('english'))\n",
        "for i in range(0, len(message)):\n",
        "  review = re.sub('[^a-zA-Z0-9]', ' ', message['title'][i]) # Removing Special Characters\n",
        "  review = review.lower()\n",
        "  review = review.split()\n",
        "  # review = review[:300]\n",
        "  review = [ps.stem(word) for word in review if word.lower() not in stop_words]\n",
        "  review = ' '.join(review)\n",
        "  testcorpus.append(review)"
      ],
      "metadata": {
        "id": "TaB8HTrymawz"
      },
      "execution_count": null,
      "outputs": []
    },
    {
      "cell_type": "code",
      "source": [
        "testcorpus[0]"
      ],
      "metadata": {
        "colab": {
          "base_uri": "https://localhost:8080/",
          "height": 35
        },
        "id": "tMTTsH5Pmf6C",
        "outputId": "a1b6a404-9c1a-4dbf-9317-ba6317382c3e"
      },
      "execution_count": null,
      "outputs": [
        {
          "output_type": "execute_result",
          "data": {
            "text/plain": [
              "'specter trump loosen tongu purs string silicon valley new york time'"
            ],
            "application/vnd.google.colaboratory.intrinsic+json": {
              "type": "string"
            }
          },
          "metadata": {},
          "execution_count": 60
        }
      ]
    },
    {
      "cell_type": "code",
      "source": [
        "# One-HOT Encoding\n",
        "encoded_corpus = [one_hot(review, vocab_size) for review in corpus]"
      ],
      "metadata": {
        "id": "qmkXDwdSmqTK"
      },
      "execution_count": null,
      "outputs": []
    },
    {
      "cell_type": "code",
      "source": [
        "encoded_corpus[0]"
      ],
      "metadata": {
        "colab": {
          "base_uri": "https://localhost:8080/"
        },
        "id": "SR9cC16Um1Bz",
        "outputId": "6ecf6c11-aff5-4b91-9a3e-a28f52afd892"
      },
      "execution_count": null,
      "outputs": [
        {
          "output_type": "execute_result",
          "data": {
            "text/plain": [
              "[876,\n",
              " 3021,\n",
              " 1197,\n",
              " 381,\n",
              " 81,\n",
              " 1604,\n",
              " 4877,\n",
              " 2323,\n",
              " 254,\n",
              " 4450,\n",
              " 876,\n",
              " 3021,\n",
              " 1197,\n",
              " 381,\n",
              " 81,\n",
              " 1604,\n",
              " 4877,\n",
              " 2323,\n",
              " 254,\n",
              " 4450,\n",
              " 3078,\n",
              " 1485,\n",
              " 4657,\n",
              " 1363,\n",
              " 1280,\n",
              " 2352,\n",
              " 2323,\n",
              " 254,\n",
              " 81,\n",
              " 3509,\n",
              " 1194,\n",
              " 2568,\n",
              " 1847,\n",
              " 4719,\n",
              " 1505,\n",
              " 428,\n",
              " 2344,\n",
              " 3161,\n",
              " 1673,\n",
              " 2731,\n",
              " 560,\n",
              " 2519,\n",
              " 1678,\n",
              " 2919,\n",
              " 4977,\n",
              " 259,\n",
              " 2125,\n",
              " 2389,\n",
              " 675,\n",
              " 3977,\n",
              " 3913,\n",
              " 1604,\n",
              " 3153,\n",
              " 876,\n",
              " 4764,\n",
              " 1197,\n",
              " 2502,\n",
              " 2058,\n",
              " 822,\n",
              " 2866,\n",
              " 2424,\n",
              " 4977,\n",
              " 259,\n",
              " 3578,\n",
              " 1986,\n",
              " 1604,\n",
              " 2062,\n",
              " 3313,\n",
              " 4877,\n",
              " 1012,\n",
              " 675,\n",
              " 2502,\n",
              " 3429,\n",
              " 1421,\n",
              " 3656,\n",
              " 64,\n",
              " 1049,\n",
              " 3429,\n",
              " 4414,\n",
              " 4243,\n",
              " 4764,\n",
              " 2848,\n",
              " 1146,\n",
              " 1128,\n",
              " 1604,\n",
              " 1738,\n",
              " 2657,\n",
              " 4450,\n",
              " 1055,\n",
              " 55,\n",
              " 1146,\n",
              " 4656,\n",
              " 2866,\n",
              " 1604,\n",
              " 4807,\n",
              " 55,\n",
              " 4656,\n",
              " 4764,\n",
              " 4243,\n",
              " 3477,\n",
              " 876,\n",
              " 3045,\n",
              " 3874,\n",
              " 2828,\n",
              " 1146,\n",
              " 4636,\n",
              " 1316,\n",
              " 3429,\n",
              " 1386,\n",
              " 3398,\n",
              " 4980,\n",
              " 81,\n",
              " 93,\n",
              " 1851,\n",
              " 3859,\n",
              " 4666,\n",
              " 4877,\n",
              " 454,\n",
              " 2828,\n",
              " 1146,\n",
              " 2917,\n",
              " 2323,\n",
              " 254,\n",
              " 475,\n",
              " 2105,\n",
              " 2125,\n",
              " 272,\n",
              " 4450,\n",
              " 675,\n",
              " 2102,\n",
              " 3859,\n",
              " 675,\n",
              " 2193,\n",
              " 449,\n",
              " 3429,\n",
              " 3441,\n",
              " 3917,\n",
              " 2909,\n",
              " 485,\n",
              " 3741,\n",
              " 2323,\n",
              " 254,\n",
              " 243,\n",
              " 4657,\n",
              " 4656,\n",
              " 1280,\n",
              " 915,\n",
              " 2866,\n",
              " 485,\n",
              " 1604,\n",
              " 3338,\n",
              " 2485,\n",
              " 1316,\n",
              " 3429,\n",
              " 3427,\n",
              " 2304,\n",
              " 485,\n",
              " 2866,\n",
              " 1851,\n",
              " 1164,\n",
              " 3452,\n",
              " 853,\n",
              " 2550,\n",
              " 1965,\n",
              " 1091,\n",
              " 3873,\n",
              " 4255,\n",
              " 254,\n",
              " 2568,\n",
              " 55,\n",
              " 856,\n",
              " 3780,\n",
              " 3362,\n",
              " 655,\n",
              " 2909,\n",
              " 64,\n",
              " 2763,\n",
              " 1968,\n",
              " 1803,\n",
              " 1500,\n",
              " 4769,\n",
              " 1921,\n",
              " 4348,\n",
              " 2,\n",
              " 4769,\n",
              " 2550,\n",
              " 254,\n",
              " 4765,\n",
              " 675,\n",
              " 856,\n",
              " 3794,\n",
              " 1193,\n",
              " 4450,\n",
              " 1022,\n",
              " 2191,\n",
              " 4159,\n",
              " 1062,\n",
              " 2877,\n",
              " 2661,\n",
              " 4818,\n",
              " 3153,\n",
              " 3144,\n",
              " 876,\n",
              " 4764,\n",
              " 1197,\n",
              " 4136,\n",
              " 4877,\n",
              " 1421,\n",
              " 1968,\n",
              " 254,\n",
              " 265,\n",
              " 1197,\n",
              " 3134,\n",
              " 1143,\n",
              " 323,\n",
              " 4764,\n",
              " 381,\n",
              " 2866,\n",
              " 1604,\n",
              " 4877,\n",
              " 3395,\n",
              " 1738,\n",
              " 177,\n",
              " 1000,\n",
              " 4764,\n",
              " 4243,\n",
              " 3477,\n",
              " 2848,\n",
              " 1146,\n",
              " 1997,\n",
              " 1604,\n",
              " 4877,\n",
              " 55,\n",
              " 4656,\n",
              " 3873,\n",
              " 4764,\n",
              " 4243,\n",
              " 3477,\n",
              " 1997,\n",
              " 2917,\n",
              " 2828,\n",
              " 4634,\n",
              " 1480,\n",
              " 1146,\n",
              " 2323,\n",
              " 254,\n",
              " 4450,\n",
              " 587,\n",
              " 954,\n",
              " 4980,\n",
              " 81,\n",
              " 3572,\n",
              " 764,\n",
              " 675,\n",
              " 3977,\n",
              " 3974,\n",
              " 254,\n",
              " 3689,\n",
              " 1146,\n",
              " 4656,\n",
              " 1476,\n",
              " 3987,\n",
              " 1608,\n",
              " 2105,\n",
              " 4281,\n",
              " 2909,\n",
              " 524,\n",
              " 254,\n",
              " 750,\n",
              " 4719,\n",
              " 4980,\n",
              " 4764,\n",
              " 4901,\n",
              " 2866,\n",
              " 3709,\n",
              " 3153,\n",
              " 1197,\n",
              " 587,\n",
              " 4758,\n",
              " 1000,\n",
              " 856,\n",
              " 584,\n",
              " 3495,\n",
              " 3234,\n",
              " 1604,\n",
              " 1012,\n",
              " 1039,\n",
              " 3319,\n",
              " 4877,\n",
              " 254,\n",
              " 55,\n",
              " 2823,\n",
              " 3395,\n",
              " 1986,\n",
              " 1253,\n",
              " 4213,\n",
              " 1421,\n",
              " 4819,\n",
              " 1175,\n",
              " 3266,\n",
              " 1006,\n",
              " 2619,\n",
              " 381,\n",
              " 621,\n",
              " 485,\n",
              " 1006,\n",
              " 2619,\n",
              " 621,\n",
              " 1604,\n",
              " 2319,\n",
              " 4805,\n",
              " 3823,\n",
              " 3265,\n",
              " 192,\n",
              " 621,\n",
              " 849,\n",
              " 254,\n",
              " 1515,\n",
              " 2877,\n",
              " 4819,\n",
              " 1351,\n",
              " 887,\n",
              " 3078,\n",
              " 4350,\n",
              " 2502,\n",
              " 2058,\n",
              " 567,\n",
              " 4424,\n",
              " 3289,\n",
              " 381,\n",
              " 1723,\n",
              " 4807,\n",
              " 4243,\n",
              " 3477,\n",
              " 3551,\n",
              " 3922,\n",
              " 4096,\n",
              " 4281,\n",
              " 631,\n",
              " 3729,\n",
              " 3664,\n",
              " 3422,\n",
              " 2866,\n",
              " 4352,\n",
              " 2058,\n",
              " 254,\n",
              " 4992,\n",
              " 2771,\n",
              " 3569,\n",
              " 55,\n",
              " 2284,\n",
              " 3710,\n",
              " 4648,\n",
              " 2500,\n",
              " 925,\n",
              " 2406,\n",
              " 1309,\n",
              " 3822,\n",
              " 724,\n",
              " 2827,\n",
              " 3076,\n",
              " 1864,\n",
              " 3687,\n",
              " 2031,\n",
              " 3045,\n",
              " 2745,\n",
              " 1309,\n",
              " 1784,\n",
              " 4455,\n",
              " 55,\n",
              " 876,\n",
              " 1263,\n",
              " 3827,\n",
              " 417,\n",
              " 2551,\n",
              " 254,\n",
              " 1048,\n",
              " 3593,\n",
              " 1166,\n",
              " 2697,\n",
              " 1986,\n",
              " 1645,\n",
              " 3427,\n",
              " 3634,\n",
              " 2990,\n",
              " 876,\n",
              " 3834,\n",
              " 55,\n",
              " 3912,\n",
              " 822,\n",
              " 2424,\n",
              " 4977,\n",
              " 259,\n",
              " 2125,\n",
              " 3078,\n",
              " 1485,\n",
              " 3078,\n",
              " 1363,\n",
              " 4096,\n",
              " 4913,\n",
              " 2522,\n",
              " 3444,\n",
              " 24,\n",
              " 276,\n",
              " 2229,\n",
              " 4118,\n",
              " 4982,\n",
              " 641,\n",
              " 1986,\n",
              " 3477,\n",
              " 1457,\n",
              " 764,\n",
              " 4447,\n",
              " 1861,\n",
              " 1986,\n",
              " 1457,\n",
              " 764,\n",
              " 4977,\n",
              " 3558,\n",
              " 3310,\n",
              " 2385,\n",
              " 4522,\n",
              " 949,\n",
              " 4461,\n",
              " 4533,\n",
              " 2028,\n",
              " 2963,\n",
              " 4727,\n",
              " 3716,\n",
              " 3570,\n",
              " 3914,\n",
              " 1500,\n",
              " 3788,\n",
              " 1421,\n",
              " 2866,\n",
              " 3495,\n",
              " 3234,\n",
              " 2385,\n",
              " 3021,\n",
              " 3065,\n",
              " 1049,\n",
              " 1000,\n",
              " 4296,\n",
              " 4227,\n",
              " 2444,\n",
              " 427,\n",
              " 834,\n",
              " 3078,\n",
              " 165,\n",
              " 4236,\n",
              " 4227]"
            ]
          },
          "metadata": {},
          "execution_count": 62
        }
      ]
    },
    {
      "cell_type": "code",
      "source": [
        "sent_length = 20\n",
        "padded_docs  = pad_sequences(sequences=encoded_corpus, maxlen=sent_length, padding='pre')"
      ],
      "metadata": {
        "id": "OTOH0UTtm3Pl"
      },
      "execution_count": null,
      "outputs": []
    },
    {
      "cell_type": "code",
      "source": [
        "padded_docs"
      ],
      "metadata": {
        "colab": {
          "base_uri": "https://localhost:8080/"
        },
        "id": "tQvoQFq1m-aR",
        "outputId": "e4ac0eac-c43d-4c87-9d28-c4e5f6f3d801"
      },
      "execution_count": null,
      "outputs": [
        {
          "output_type": "execute_result",
          "data": {
            "text/plain": [
              "array([[1500, 3788, 1421, ...,  165, 4236, 4227],\n",
              "       [1783, 4720, 1936, ..., 3344, 4164, 1083],\n",
              "       [ 313, 4805, 2017, ..., 3428,  686,  442],\n",
              "       ...,\n",
              "       [ 771, 4232, 1249, ..., 1451,  821, 1371],\n",
              "       [2542,  873, 4634, ...,  381, 2029, 3799],\n",
              "       [3407, 3134, 1121, ..., 1248, 1362, 2472]], dtype=int32)"
            ]
          },
          "metadata": {},
          "execution_count": 64
        }
      ]
    },
    {
      "cell_type": "code",
      "source": [
        "len(padded_docs)"
      ],
      "metadata": {
        "colab": {
          "base_uri": "https://localhost:8080/"
        },
        "id": "IuS-f1BonEe4",
        "outputId": "48b60bac-0bb1-49cc-ff91-f372f559091a"
      },
      "execution_count": null,
      "outputs": [
        {
          "output_type": "execute_result",
          "data": {
            "text/plain": [
              "18285"
            ]
          },
          "metadata": {},
          "execution_count": 65
        }
      ]
    },
    {
      "cell_type": "code",
      "source": [
        "testX_final = np.array(padded_docs)"
      ],
      "metadata": {
        "id": "uQ6L7KI3nGbU"
      },
      "execution_count": null,
      "outputs": []
    },
    {
      "cell_type": "code",
      "source": [
        "test_y_prob = model.predict(testX_final)"
      ],
      "metadata": {
        "colab": {
          "base_uri": "https://localhost:8080/"
        },
        "id": "FKRfk4XBnJ5V",
        "outputId": "dfe992a0-97f2-4b27-97c4-3f5eb33ff05b"
      },
      "execution_count": null,
      "outputs": [
        {
          "output_type": "stream",
          "name": "stdout",
          "text": [
            "572/572 [==============================] - 2s 3ms/step\n"
          ]
        }
      ]
    },
    {
      "cell_type": "code",
      "source": [
        "test_y_prob"
      ],
      "metadata": {
        "colab": {
          "base_uri": "https://localhost:8080/"
        },
        "id": "WBya73r1nPfM",
        "outputId": "22248208-737b-4625-8608-d5f83c58f0ad"
      },
      "execution_count": null,
      "outputs": [
        {
          "output_type": "execute_result",
          "data": {
            "text/plain": [
              "array([[9.9994946e-01],\n",
              "       [2.5403739e-03],\n",
              "       [9.2980742e-01],\n",
              "       ...,\n",
              "       [3.6253384e-06],\n",
              "       [1.5699398e-02],\n",
              "       [9.9999964e-01]], dtype=float32)"
            ]
          },
          "metadata": {},
          "execution_count": 68
        }
      ]
    },
    {
      "cell_type": "code",
      "source": [
        "test_y_pred = (test_y_prob > 0.5).astype(int)"
      ],
      "metadata": {
        "id": "FK3jNbf8nTxi"
      },
      "execution_count": null,
      "outputs": []
    },
    {
      "cell_type": "code",
      "source": [
        "test_y_pred"
      ],
      "metadata": {
        "colab": {
          "base_uri": "https://localhost:8080/"
        },
        "id": "oiZ0xP08oC7b",
        "outputId": "7f6ebc3b-667b-4e21-9b3b-a85cbeebc19c"
      },
      "execution_count": null,
      "outputs": [
        {
          "output_type": "execute_result",
          "data": {
            "text/plain": [
              "array([[1],\n",
              "       [0],\n",
              "       [1],\n",
              "       ...,\n",
              "       [0],\n",
              "       [0],\n",
              "       [1]])"
            ]
          },
          "metadata": {},
          "execution_count": 70
        }
      ]
    },
    {
      "cell_type": "code",
      "source": [
        "test_y_pred[:20]"
      ],
      "metadata": {
        "colab": {
          "base_uri": "https://localhost:8080/"
        },
        "id": "CQATnlFboEKu",
        "outputId": "91bd9736-98e8-476d-891b-15208065e90d"
      },
      "execution_count": null,
      "outputs": [
        {
          "output_type": "execute_result",
          "data": {
            "text/plain": [
              "array([[1],\n",
              "       [0],\n",
              "       [1],\n",
              "       [1],\n",
              "       [1],\n",
              "       [0],\n",
              "       [1],\n",
              "       [0],\n",
              "       [0],\n",
              "       [0],\n",
              "       [1],\n",
              "       [1],\n",
              "       [1],\n",
              "       [0],\n",
              "       [0],\n",
              "       [1],\n",
              "       [1],\n",
              "       [0],\n",
              "       [0],\n",
              "       [0]])"
            ]
          },
          "metadata": {},
          "execution_count": 71
        }
      ]
    }
  ]
}